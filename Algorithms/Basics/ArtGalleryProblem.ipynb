{
  "cells": [
    {
      "cell_type": "markdown",
      "source": [
        "# Preparação"
      ],
      "metadata": {
        "id": "cRHoaJDCQSh-"
      },
      "id": "cRHoaJDCQSh-"
    },
    {
      "cell_type": "markdown",
      "source": [
        "## Importação das Bibliotecas"
      ],
      "metadata": {
        "id": "0pFvuK_hN1ym"
      },
      "id": "0pFvuK_hN1ym"
    },
    {
      "cell_type": "code",
      "source": [
        "import numpy as np\n",
        "import plotly.graph_objects as go\n",
        "import requests\n",
        "import tarfile\n",
        "import os\n",
        "import random\n",
        "from collections import defaultdict"
      ],
      "metadata": {
        "id": "Z7BaEk-zNpin"
      },
      "id": "Z7BaEk-zNpin",
      "execution_count": 1,
      "outputs": []
    },
    {
      "cell_type": "markdown",
      "source": [
        "## Obtenção das Instâncias"
      ],
      "metadata": {
        "id": "1tl-9_PsN8Kg"
      },
      "id": "1tl-9_PsN8Kg"
    },
    {
      "cell_type": "code",
      "source": [
        "# Função para baixar e extrair arquivos\n",
        "def download_and_extract(url):\n",
        "    response = requests.get(url, stream=True)\n",
        "    if response.status_code == 200:\n",
        "        file_name = url.split('/')[-1]\n",
        "        with open(file_name, 'wb') as file:\n",
        "            for chunk in response.iter_content(chunk_size=8192):\n",
        "                file.write(chunk)\n",
        "        with tarfile.open(file_name, \"r:gz\") as tar:\n",
        "            tar.extractall()\n",
        "        os.remove(file_name)\n",
        "    else:\n",
        "        raise Exception(f\"Failed to download file from {url}\")\n",
        "\n",
        "# URL das instâncias de polígonos von Koch aleatórios (RvK)\n",
        "instances_url = 'https://www.ic.unicamp.br/~cid/Problem-instances/Art-Gallery/AGPVG/agp2009a-instances/agp2009a-simplerand.tgz'\n",
        "\n",
        "# Baixar e extrair os arquivos\n",
        "download_and_extract(instances_url)"
      ],
      "metadata": {
        "id": "x6k2RQ5QNpgJ"
      },
      "id": "x6k2RQ5QNpgJ",
      "execution_count": 2,
      "outputs": []
    },
    {
      "cell_type": "markdown",
      "source": [
        "## Funções Básicas Geométricas"
      ],
      "metadata": {
        "id": "V5BNhxCTOJiL"
      },
      "id": "V5BNhxCTOJiL"
    },
    {
      "cell_type": "code",
      "source": [
        "# Função para ler os vértices do polígono a partir de um arquivo no formato especificado\n",
        "def read_polygon(arquivo):\n",
        "    with open(arquivo, 'r') as file:\n",
        "        line = file.readline().strip().split()\n",
        "        num_vertices = int(line[0])\n",
        "        vertices = []\n",
        "        for i in range(1, len(line), 2):\n",
        "            x = eval(line[i])\n",
        "            y = eval(line[i + 1])\n",
        "            vertices.append((x, y))\n",
        "    return vertices\n",
        "\n",
        "# Função para verificar se duas arestas se cruzam\n",
        "def are_edges_intersecting(p1, p2, p3, p4):\n",
        "    def orientation(p, q, r):\n",
        "        val = (q[1] - p[1]) * (r[0] - q[0]) - (q[0] - p[0]) * (r[1] - q[1])\n",
        "        if val == 0: return 0\n",
        "        return 1 if val > 0 else 2\n",
        "\n",
        "    o1 = orientation(p1, p2, p3)\n",
        "    o2 = orientation(p1, p2, p4)\n",
        "    o3 = orientation(p3, p4, p1)\n",
        "    o4 = orientation(p3, p4, p2)\n",
        "\n",
        "    if o1 != o2 and o3 != o4:\n",
        "        return True\n",
        "\n",
        "    if o1 == 0 and on_segment(p1, p3, p2): return True\n",
        "    if o2 == 0 and on_segment(p1, p4, p2): return True\n",
        "    if o3 == 0 and on_segment(p3, p1, p4): return True\n",
        "    if o4 == 0 and on_segment(p3, p2, p4): return True\n",
        "\n",
        "    return False\n",
        "\n",
        "def on_segment(p, q, r):\n",
        "    if (q[0] <= max(p[0], r[0]) and q[0] >= min(p[0], r[0]) and\n",
        "        q[1] <= max(p[1], r[1]) and q[1] >= min(p[1], r[1])):\n",
        "        return True\n",
        "    return False\n",
        "\n",
        "# Função para verificar se o polígono é simples\n",
        "def is_simple_polygon(vertices):\n",
        "    n = len(vertices)\n",
        "    for i in range(n):\n",
        "        for j in range(i + 1, n):\n",
        "            p1, p2 = vertices[i], vertices[(i + 1) % n]\n",
        "            p3, p4 = vertices[j], vertices[(j + 1) % n]\n",
        "            if i != j and (i + 1) % n != j and i != (j + 1) % n:\n",
        "                if are_edges_intersecting(p1, p2, p3, p4):\n",
        "                    return False\n",
        "    return True\n",
        "\n",
        "# Função para detectar orelhas\n",
        "def is_convex(p1, p2, p3):\n",
        "    return (p2[0] - p1[0]) * (p3[1] - p1[1]) - (p2[1] - p1[1]) * (p3[0] - p1[0]) > 0\n",
        "\n",
        "def is_ear(p1, p2, p3, vertices):\n",
        "    if not is_convex(p1, p2, p3):\n",
        "        return False\n",
        "    for p in vertices:\n",
        "        if p != p1 and p != p2 and p != p3 and is_point_in_triangle(p, p1, p2, p3):\n",
        "            return False\n",
        "    return True\n",
        "\n",
        "def is_point_in_triangle(p, p1, p2, p3):\n",
        "    def sign(p1, p2, p3):\n",
        "        return (p1[0] - p3[0]) * (p2[1] - p3[1]) - (p2[0] - p3[0]) * (p1[1] - p3[1])\n",
        "\n",
        "    d1 = sign(p, p1, p2)\n",
        "    d2 = sign(p, p2, p3)\n",
        "    d3 = sign(p, p3, p1)\n",
        "    has_neg = (d1 < 0) or (d2 < 0) or (d3 < 0)\n",
        "    has_pos = (d1 > 0) or (d2 > 0) or (d3 > 0)\n",
        "\n",
        "    return not (has_neg and has_pos)"
      ],
      "metadata": {
        "id": "1dOo6aC_NpUX"
      },
      "id": "1dOo6aC_NpUX",
      "execution_count": 3,
      "outputs": []
    },
    {
      "cell_type": "markdown",
      "source": [
        "## Função para Visualização dos Triângulos"
      ],
      "metadata": {
        "id": "n-1sUzTrPLbP"
      },
      "id": "n-1sUzTrPLbP"
    },
    {
      "cell_type": "code",
      "source": [
        "def triangulate(vertices):\n",
        "    if not is_simple_polygon(vertices):\n",
        "        raise Exception(\"O polígono não é simples (as arestas se cruzam).\")\n",
        "\n",
        "    triangles = []\n",
        "    vertices = vertices.copy()\n",
        "    frames = []\n",
        "\n",
        "    while len(vertices) > 3:\n",
        "        ear_found = False\n",
        "        for i in range(len(vertices)):\n",
        "            p1 = vertices[i]\n",
        "            p2 = vertices[(i + 1) % len(vertices)]\n",
        "            p3 = vertices[(i + 2) % len(vertices)]\n",
        "            if is_ear(p1, p2, p3, vertices):\n",
        "                triangles.append((p1, p2, p3))\n",
        "                vertices.pop((i + 1) % len(vertices))\n",
        "                ear_found = True\n",
        "                break\n",
        "        if not ear_found:\n",
        "            raise Exception(\"Nenhuma orelha encontrada. O polígono pode ser inválido.\")\n",
        "\n",
        "        # Adicionar frame atual à lista de frames\n",
        "        frame_vertices = vertices + [vertices[0]]\n",
        "        triangles_x = []\n",
        "        triangles_y = []\n",
        "        for triangle in triangles[:-1]:  # Exclude the last triangle for now\n",
        "            tx, ty = zip(*triangle)\n",
        "            triangles_x.extend(tx + (None,))\n",
        "            triangles_y.extend(ty + (None,))\n",
        "\n",
        "        last_triangle_x, last_triangle_y = zip(*triangles[-1])  # Add last triangle separately\n",
        "        last_triangle_x = list(last_triangle_x) + [None]\n",
        "        last_triangle_y = list(last_triangle_y) + [None]\n",
        "\n",
        "        frame_data = [\n",
        "            go.Scatter(x=[v[0] for v in frame_vertices], y=[v[1] for v in frame_vertices], mode='lines+markers', name=\"Polígono\"),\n",
        "            go.Scatter(x=triangles_x, y=triangles_y, mode='lines+markers', fill='toself', name=\"Triângulos\"),\n",
        "            go.Scatter(x=last_triangle_x, y=last_triangle_y, mode='lines+markers', fill='toself', name=\"Último Triângulo\", line=dict(color='blue'))\n",
        "        ]\n",
        "\n",
        "        frames.append(go.Frame(data=frame_data, name=str(len(frames) + 1)))\n",
        "\n",
        "    # Adicionar o último triângulo no penúltimo frame\n",
        "    if len(vertices) == 3:\n",
        "        triangles.append((vertices[0], vertices[1], vertices[2]))\n",
        "        tx, ty = zip(*triangles[-1])\n",
        "        triangles_x.extend(tx + (None,))\n",
        "        triangles_y.extend(ty + (None,))\n",
        "        frame_data = [\n",
        "            go.Scatter(x=[v[0] for v in vertices + [vertices[0]]], y=[v[1] for v in vertices + [vertices[0]]], mode='lines+markers', name=\"Polígono\"),\n",
        "            go.Scatter(x=triangles_x, y=triangles_y, mode='lines+markers', fill='toself', name=\"Triângulos\")\n",
        "        ]\n",
        "        frames.append(go.Frame(data=frame_data, name=str(len(frames) + 1)))\n",
        "\n",
        "    # Colorir os vértices minimizando o número de cores\n",
        "    vertex_colors = color_vertices(vertices, triangles)\n",
        "\n",
        "    guard_vertices = select_guard_vertices(vertices, vertex_colors)\n",
        "\n",
        "    return triangles, frames, guard_vertices, vertex_colors"
      ],
      "metadata": {
        "id": "ivaTL4sBPXh3"
      },
      "id": "ivaTL4sBPXh3",
      "execution_count": 10,
      "outputs": []
    },
    {
      "cell_type": "markdown",
      "source": [
        "## Função para Visualização dos Vértices"
      ],
      "metadata": {
        "id": "vadVprjuPaCS"
      },
      "id": "vadVprjuPaCS"
    },
    {
      "cell_type": "code",
      "source": [
        "def plot_triangles(vertices, frames, guard_vertices, uncolored_vertices, vertex_colors, width=800, height=600):\n",
        "    fig = go.Figure(\n",
        "        data=frames[0].data,\n",
        "        frames=frames\n",
        "    )\n",
        "\n",
        "    total_triangles = len(vertices) - 2  # Total de triângulos formados\n",
        "    num_guards = len(guard_vertices)  # Total de Guardas Principais necessárias\n",
        "    num_uncolored = len(uncolored_vertices)  # Total de Guardas Auxiliares\n",
        "\n",
        "    fig.update_layout(\n",
        "        updatemenus=[dict(\n",
        "            type=\"buttons\",\n",
        "            showactive=False,\n",
        "            buttons=[\n",
        "                dict(\n",
        "                    label=\"Play\",\n",
        "                    method=\"animate\",\n",
        "                    args=[None, {\"frame\": {\"duration\": 1000, \"redraw\": True}, \"fromcurrent\": True, \"mode\": \"immediate\"}]\n",
        "                ),\n",
        "                dict(\n",
        "                    label=\"Pause\",\n",
        "                    method=\"animate\",\n",
        "                    args=[[None], {\"frame\": {\"duration\": 0, \"redraw\": True}, \"mode\": \"immediate\"}]\n",
        "                )\n",
        "            ],\n",
        "            x=0.025,\n",
        "            xanchor=\"left\",\n",
        "            y=-0.05,\n",
        "            yanchor=\"top\"\n",
        "        )],\n",
        "        sliders=[{\n",
        "            \"steps\": [{\"args\": [[f.name], {\"frame\": {\"duration\": 0, \"redraw\": True}, \"mode\": \"immediate\"}],\n",
        "                       \"label\": str(i + 1),  # Ajustar para começar de 1\n",
        "                       \"method\": \"animate\"} for i, f in enumerate(frames)],\n",
        "            \"x\": 0.1,\n",
        "            \"len\": 0.9,\n",
        "            \"xanchor\": \"left\",\n",
        "            \"y\": 0,\n",
        "            \"yanchor\": \"top\",\n",
        "            \"currentvalue\": {\n",
        "                \"prefix\": \"Triângulos: \",\n",
        "                \"font\": {\"size\": 20},\n",
        "                \"visible\": True,\n",
        "                \"xanchor\": \"left\"\n",
        "            },\n",
        "            \"transition\": {\"duration\": 0, \"easing\": \"cubic-in-out\"},\n",
        "            \"pad\": {\"b\": 10, \"t\": 10}  # Ajuste do preenchimento\n",
        "        }],\n",
        "        width=width,\n",
        "        height=height,\n",
        "        showlegend=False,\n",
        "        margin=dict(l=10, r=10, t=100, b=50)  # Ajuste das margens para adicionar mais espaço no topo\n",
        "    )\n",
        "\n",
        "    # Adicionar cores aos vértices\n",
        "    for vertex, color in vertex_colors.items():\n",
        "        fig.add_trace(go.Scatter(\n",
        "            x=[vertex[0]], y=[vertex[1]],\n",
        "            mode='markers',\n",
        "            marker=dict(color=color, size=10),\n",
        "            name=f'Vertice {vertex}'\n",
        "        ))\n",
        "\n",
        "    # Adicionar vértices dos Guardas Principais\n",
        "    for guard in guard_vertices:\n",
        "        fig.add_trace(go.Scatter(\n",
        "            x=[guard[0]], y=[guard[1]],\n",
        "            mode='markers',\n",
        "            marker=dict(color='black', size=15, symbol='star'),\n",
        "            name=f'Guarda Principal {guard}'\n",
        "        ))\n",
        "\n",
        "    # Adicionar vértices dos Guardas Auxiliares\n",
        "    for vertex in uncolored_vertices:\n",
        "        fig.add_trace(go.Scatter(\n",
        "            x=[vertex[0]], y=[vertex[1]],\n",
        "            mode='markers',\n",
        "            marker=dict(color='gold', size=15, symbol='circle'),\n",
        "            name=f'Guarda Auxiliar {vertex}'\n",
        "        ))\n",
        "\n",
        "    # Atualizar layout para mostrar a quantidade de Guardas Principais e Guardas Auxiliares\n",
        "    fig.update_layout(\n",
        "        title=dict(\n",
        "            text=f'<b>Total de Triângulos:</b> <b>{total_triangles}</b><br>'\n",
        "                 f'<b>Guardas Principais:</b> <b>{num_guards}</b><br>'\n",
        "                 f'<b>Guardas Auxiliares:</b> <b>{num_uncolored}</b>',\n",
        "            y=0.95  # Ajuste o valor de 'y' conforme necessário para elevar o título\n",
        "        )\n",
        "    )\n",
        "\n",
        "    fig.show()\n"
      ],
      "metadata": {
        "id": "YSirW-fiSMRX"
      },
      "id": "YSirW-fiSMRX",
      "execution_count": 11,
      "outputs": []
    },
    {
      "cell_type": "markdown",
      "source": [
        "## Funções para Escolher Polígono"
      ],
      "metadata": {
        "id": "4FP-KnzBWNZk"
      },
      "id": "4FP-KnzBWNZk"
    },
    {
      "cell_type": "code",
      "source": [
        "def listar_quantidades_vertices():\n",
        "    # Lista todos os arquivos no diretório de instâncias\n",
        "    instance_files = os.listdir('agp2009a-simplerand')\n",
        "\n",
        "    # Extrai as quantidades de vértices únicas e ordena\n",
        "    vertex_counts = sorted(set(int(file.split('-')[1]) for file in instance_files))\n",
        "\n",
        "    # Separar as quantidades de vértices em três categorias\n",
        "    vertex_counts_less_100 = [count for count in vertex_counts if count < 100]\n",
        "    vertex_counts_100_999 = [count for count in vertex_counts if 100 <= count < 1000]\n",
        "    vertex_counts_1000_or_more = [count for count in vertex_counts if count >= 1000]\n",
        "\n",
        "    # Função para exibir os valores\n",
        "    def print_columns(lst):\n",
        "        print(\" \".join([str(num) for num in lst]))\n",
        "\n",
        "    # Exibir as quantidades de vértices\n",
        "    print(\"Quantidades de vértices disponíveis:\")\n",
        "    print_columns(vertex_counts_less_100)\n",
        "    print_columns(vertex_counts_100_999)\n",
        "    print_columns(vertex_counts_1000_or_more)\n",
        "\n",
        "def filtrar_instancias_por_vertices():\n",
        "    # Lista todos os arquivos no diretório de instâncias\n",
        "    instance_files = os.listdir('agp2009a-simplerand')\n",
        "\n",
        "    # Solicita ao usuário para inserir a quantidade exata de vértices do polígono\n",
        "    exact_vertices = int(input(\"\\nInsira a quantidade exata de vértices do polígono: \"))\n",
        "\n",
        "    # Filtra os arquivos com base na quantidade exata de vértices\n",
        "    filtered_instance_files = [file for file in instance_files if int(file.split('-')[1]) == exact_vertices]\n",
        "    filtered_instance_files = sorted(filtered_instance_files)  # Ordena os arquivos para exibição organizada\n",
        "\n",
        "    if not filtered_instance_files:\n",
        "        print(f\"\\nNenhuma instância encontrada com {exact_vertices} vértices.\")\n",
        "        return []\n",
        "\n",
        "    return filtered_instance_files\n",
        "\n",
        "def selecionar_e_carregar_instancia(filtered_instance_files):\n",
        "    if not filtered_instance_files:\n",
        "        return None\n",
        "\n",
        "    # Solicita ao usuário para selecionar uma instância pelo índice\n",
        "    instance_number = input(\"\\nInsira o número da instância desejada (de 1 a 30): \").strip()\n",
        "\n",
        "    if not instance_number.isdigit() or not (1 <= int(instance_number) <= len(filtered_instance_files)):\n",
        "        raise ValueError(\"Número da instância inválido.\")\n",
        "\n",
        "    selected_instance_file = filtered_instance_files[int(instance_number) - 1]\n",
        "\n",
        "    instance_path = os.path.join('agp2009a-simplerand', selected_instance_file)\n",
        "\n",
        "    # Ler os vértices do polígono a partir do arquivo selecionado\n",
        "    vertices = read_polygon(instance_path)\n",
        "\n",
        "    return vertices\n"
      ],
      "metadata": {
        "id": "utHc5ipXWQlX"
      },
      "id": "utHc5ipXWQlX",
      "execution_count": 6,
      "outputs": []
    },
    {
      "cell_type": "markdown",
      "source": [
        "## Obtenção dos Guardas com Grafo de Adjacência e 3-Coloração"
      ],
      "metadata": {
        "id": "nPyoUOeCOMy5"
      },
      "id": "nPyoUOeCOMy5"
    },
    {
      "cell_type": "code",
      "source": [
        "# Função para construir o grafo de adjacência a partir dos triângulos\n",
        "def build_graph(vertices, triangles):\n",
        "    graph = {tuple(v): set() for v in vertices}\n",
        "    for t in triangles:\n",
        "        for i in range(3):\n",
        "            if tuple(t[i]) not in graph:\n",
        "                graph[tuple(t[i])] = set()\n",
        "            if tuple(t[(i + 1) % 3]) not in graph:\n",
        "                graph[tuple(t[(i + 1) % 3])] = set()\n",
        "            if tuple(t[(i + 2) % 3]) not in graph:\n",
        "                graph[tuple(t[(i + 2) % 3])] = set()\n",
        "            graph[tuple(t[i])].add(tuple(t[(i + 1) % 3]))\n",
        "            graph[tuple(t[i])].add(tuple(t[(i + 2) % 3]))\n",
        "    return graph\n",
        "\n",
        "# Função para colorir os vértices minimizando o número de cores\n",
        "def color_vertices(vertices, triangles):\n",
        "    graph = build_graph(vertices, triangles)\n",
        "    colors = {}\n",
        "    available_colors = ['red', 'green', 'blue']\n",
        "\n",
        "    for vertex in graph:\n",
        "        neighbor_colors = {colors[neighbor] for neighbor in graph[vertex] if neighbor in colors}\n",
        "        for color in available_colors:\n",
        "            if color not in neighbor_colors:\n",
        "                colors[vertex] = color\n",
        "                break\n",
        "\n",
        "    # Garantir que todos os vértices estão coloridos\n",
        "    for vertex in vertices:\n",
        "        if tuple(vertex) not in colors:\n",
        "            neighbor_colors = {colors[neighbor] for neighbor in graph[tuple(vertex)] if neighbor in colors}\n",
        "            for color in available_colors:\n",
        "                if color not in neighbor_colors:\n",
        "                    colors[tuple(vertex)] = color\n",
        "                    break\n",
        "\n",
        "    # Adicionando ponto de verificação para depuração\n",
        "    for vertex in vertices:\n",
        "        if tuple(vertex) not in colors:\n",
        "            print(f\"Vértice não colorido: {vertex}\")\n",
        "            print(f\"Vizinhos: {graph[tuple(vertex)]}\")\n",
        "\n",
        "    return colors\n",
        "\n",
        "def select_guard_vertices(vertices, colors):\n",
        "    color_count = defaultdict(int)\n",
        "    for color in colors.values():\n",
        "        color_count[color] += 1\n",
        "\n",
        "    min_color = min(color_count, key=color_count.get)\n",
        "\n",
        "    guards = [vertex for vertex, color in colors.items() if color == min_color]\n",
        "    uncolored_vertices = [vertex for vertex in vertices if tuple(vertex) not in colors]\n",
        "\n",
        "    return guards, uncolored_vertices"
      ],
      "metadata": {
        "id": "3vQJeha9NenM"
      },
      "id": "3vQJeha9NenM",
      "execution_count": 7,
      "outputs": []
    },
    {
      "cell_type": "markdown",
      "source": [
        "# Escolher Polígono"
      ],
      "metadata": {
        "id": "4Y5Tf8FOP3CH"
      },
      "id": "4Y5Tf8FOP3CH"
    },
    {
      "cell_type": "code",
      "source": [
        "# Listar as quantidades de vértices disponíveis\n",
        "listar_quantidades_vertices()\n",
        "\n",
        "# Filtrar e listar as instâncias com base na quantidade máxima de vértices\n",
        "filtered_instance_files = filtrar_instancias_por_vertices()\n",
        "\n",
        "# Selecionar e carregar a instância escolhida\n",
        "vertices = selecionar_e_carregar_instancia(filtered_instance_files)"
      ],
      "metadata": {
        "colab": {
          "base_uri": "https://localhost:8080/"
        },
        "id": "qXw8MyLUVHLf",
        "outputId": "46fde5df-b46e-4159-e29f-4a09e71272b8"
      },
      "id": "qXw8MyLUVHLf",
      "execution_count": 18,
      "outputs": [
        {
          "name": "stdout",
          "output_type": "stream",
          "text": [
            "Quantidades de vértices disponíveis:\n",
            "20 40 60 80\n",
            "100 200 300 400 500 600 700 800 900\n",
            "1000 1250 1500 1750 2000 2250 2500\n",
            "\n",
            "Insira a quantidade exata de vértices do polígono: 20\n",
            "\n",
            "Insira o número da instância desejada (de 1 a 30): 10\n"
          ]
        }
      ]
    },
    {
      "cell_type": "markdown",
      "source": [
        "# Visualizar Solução"
      ],
      "metadata": {
        "id": "Pr8LJeT2P7vf"
      },
      "id": "Pr8LJeT2P7vf"
    },
    {
      "cell_type": "code",
      "source": [
        "# Executar a triangulação com visualização passo a passo\n",
        "triangles, frames, guard_vertices, vertex_colors = triangulate(vertices)\n",
        "\n",
        "# Selecionar os vértices que representam as câmeras\n",
        "guard_vertices, uncolored_vertices = select_guard_vertices(vertices, vertex_colors)\n",
        "\n",
        "# Plotar os triângulos resultantes\n",
        "plot_triangles(vertices, frames, guard_vertices, uncolored_vertices, vertex_colors, width=980, height=700)"
      ],
      "metadata": {
        "colab": {
          "base_uri": "https://localhost:8080/",
          "height": 737
        },
        "id": "H2ZVb514SIkf",
        "outputId": "aaf34f24-7f03-4b96-a0be-57b3a5ece6f6"
      },
      "id": "H2ZVb514SIkf",
      "execution_count": 19,
      "outputs": [
        {
          "output_type": "display_data",
          "data": {
            "text/html": [
              "<html>\n",
              "<head><meta charset=\"utf-8\" /></head>\n",
              "<body>\n",
              "    <div>            <script src=\"https://cdnjs.cloudflare.com/ajax/libs/mathjax/2.7.5/MathJax.js?config=TeX-AMS-MML_SVG\"></script><script type=\"text/javascript\">if (window.MathJax && window.MathJax.Hub && window.MathJax.Hub.Config) {window.MathJax.Hub.Config({SVG: {font: \"STIX-Web\"}});}</script>                <script type=\"text/javascript\">window.PlotlyConfig = {MathJaxConfig: 'local'};</script>\n",
              "        <script charset=\"utf-8\" src=\"https://cdn.plot.ly/plotly-2.24.1.min.js\"></script>                <div id=\"ffa7dd9b-ddba-4034-816f-a4e84499f4ec\" class=\"plotly-graph-div\" style=\"height:700px; width:1200px;\"></div>            <script type=\"text/javascript\">                                    window.PLOTLYENV=window.PLOTLYENV || {};                                    if (document.getElementById(\"ffa7dd9b-ddba-4034-816f-a4e84499f4ec\")) {                    Plotly.newPlot(                        \"ffa7dd9b-ddba-4034-816f-a4e84499f4ec\",                        [{\"mode\":\"lines+markers\",\"name\":\"Pol\\u00edgono\",\"x\":[13.457956898957491,6.02994357779801,14.371699444949627,10.524101944640279,7.960428941063583,6.063302546739578,1.1055243937298656,4.9611933985725045,1.1962371300905943,0.9236021423712373,-2.07887961063534,-1.0737016657367349,1.7794214878231287,-2.6324191633611917,0.29969748482108116,1.3280397830531,8.396478367969394,4.281529672443867,8.537105253897607,13.457956898957491],\"y\":[1.674550924450159,5.166381652466953,7.6566993575543165,8.135235727764666,7.357903410680592,8.137893987819552,9.879952398128808,6.6241475231945515,5.9769277311861515,8.456226022914052,10.59418018348515,6.519793280400336,3.6012997422367334,6.165341864340007,2.4833146380260587,2.2248622067272663,1.4151372937485576,5.073829357512295,3.4736779229715466,1.674550924450159],\"type\":\"scatter\"},{\"fill\":\"toself\",\"mode\":\"lines+markers\",\"name\":\"Tri\\u00e2ngulos\",\"x\":[],\"y\":[],\"type\":\"scatter\"},{\"fill\":\"toself\",\"line\":{\"color\":\"blue\"},\"mode\":\"lines+markers\",\"name\":\"\\u00daltimo Tri\\u00e2ngulo\",\"x\":[13.457956898957491,11.057615973986685,6.02994357779801,null],\"y\":[1.674550924450159,5.131150851026177,5.166381652466953,null],\"type\":\"scatter\"},{\"marker\":{\"color\":\"red\",\"size\":10},\"mode\":\"markers\",\"name\":\"Vertice (13.457956898957491, 1.674550924450159)\",\"x\":[13.457956898957491],\"y\":[1.674550924450159],\"type\":\"scatter\"},{\"marker\":{\"color\":\"green\",\"size\":10},\"mode\":\"markers\",\"name\":\"Vertice (4.281529672443867, 5.073829357512295)\",\"x\":[4.281529672443867],\"y\":[5.073829357512295],\"type\":\"scatter\"},{\"marker\":{\"color\":\"blue\",\"size\":10},\"mode\":\"markers\",\"name\":\"Vertice (8.537105253897607, 3.4736779229715466)\",\"x\":[8.537105253897607],\"y\":[3.4736779229715466],\"type\":\"scatter\"},{\"marker\":{\"color\":\"green\",\"size\":10},\"mode\":\"markers\",\"name\":\"Vertice (11.057615973986685, 5.131150851026177)\",\"x\":[11.057615973986685],\"y\":[5.131150851026177],\"type\":\"scatter\"},{\"marker\":{\"color\":\"blue\",\"size\":10},\"mode\":\"markers\",\"name\":\"Vertice (6.02994357779801, 5.166381652466953)\",\"x\":[6.02994357779801],\"y\":[5.166381652466953],\"type\":\"scatter\"},{\"marker\":{\"color\":\"red\",\"size\":10},\"mode\":\"markers\",\"name\":\"Vertice (14.371699444949627, 7.6566993575543165)\",\"x\":[14.371699444949627],\"y\":[7.6566993575543165],\"type\":\"scatter\"},{\"marker\":{\"color\":\"green\",\"size\":10},\"mode\":\"markers\",\"name\":\"Vertice (10.524101944640279, 8.135235727764666)\",\"x\":[10.524101944640279],\"y\":[8.135235727764666],\"type\":\"scatter\"},{\"marker\":{\"color\":\"red\",\"size\":10},\"mode\":\"markers\",\"name\":\"Vertice (7.960428941063583, 7.357903410680592)\",\"x\":[7.960428941063583],\"y\":[7.357903410680592],\"type\":\"scatter\"},{\"marker\":{\"color\":\"green\",\"size\":10},\"mode\":\"markers\",\"name\":\"Vertice (6.063302546739578, 8.137893987819552)\",\"x\":[6.063302546739578],\"y\":[8.137893987819552],\"type\":\"scatter\"},{\"marker\":{\"color\":\"red\",\"size\":10},\"mode\":\"markers\",\"name\":\"Vertice (1.1055243937298656, 9.879952398128808)\",\"x\":[1.1055243937298656],\"y\":[9.879952398128808],\"type\":\"scatter\"},{\"marker\":{\"color\":\"red\",\"size\":10},\"mode\":\"markers\",\"name\":\"Vertice (1.1962371300905943, 5.9769277311861515)\",\"x\":[1.1962371300905943],\"y\":[5.9769277311861515],\"type\":\"scatter\"},{\"marker\":{\"color\":\"green\",\"size\":10},\"mode\":\"markers\",\"name\":\"Vertice (0.9236021423712373, 8.456226022914052)\",\"x\":[0.9236021423712373],\"y\":[8.456226022914052],\"type\":\"scatter\"},{\"marker\":{\"color\":\"blue\",\"size\":10},\"mode\":\"markers\",\"name\":\"Vertice (-2.07887961063534, 10.59418018348515)\",\"x\":[-2.07887961063534],\"y\":[10.59418018348515],\"type\":\"scatter\"},{\"marker\":{\"color\":\"green\",\"size\":10},\"mode\":\"markers\",\"name\":\"Vertice (-1.0737016657367349, 6.519793280400336)\",\"x\":[-1.0737016657367349],\"y\":[6.519793280400336],\"type\":\"scatter\"},{\"marker\":{\"color\":\"blue\",\"size\":10},\"mode\":\"markers\",\"name\":\"Vertice (1.7794214878231287, 3.6012997422367334)\",\"x\":[1.7794214878231287],\"y\":[3.6012997422367334],\"type\":\"scatter\"},{\"marker\":{\"color\":\"red\",\"size\":10},\"mode\":\"markers\",\"name\":\"Vertice (-2.6324191633611917, 6.165341864340007)\",\"x\":[-2.6324191633611917],\"y\":[6.165341864340007],\"type\":\"scatter\"},{\"marker\":{\"color\":\"green\",\"size\":10},\"mode\":\"markers\",\"name\":\"Vertice (0.29969748482108116, 2.4833146380260587)\",\"x\":[0.29969748482108116],\"y\":[2.4833146380260587],\"type\":\"scatter\"},{\"marker\":{\"color\":\"red\",\"size\":10},\"mode\":\"markers\",\"name\":\"Vertice (1.3280397830531, 2.2248622067272663)\",\"x\":[1.3280397830531],\"y\":[2.2248622067272663],\"type\":\"scatter\"},{\"marker\":{\"color\":\"black\",\"size\":15,\"symbol\":\"star\"},\"mode\":\"markers\",\"name\":\"Guarda Principal (8.537105253897607, 3.4736779229715466)\",\"x\":[8.537105253897607],\"y\":[3.4736779229715466],\"type\":\"scatter\"},{\"marker\":{\"color\":\"black\",\"size\":15,\"symbol\":\"star\"},\"mode\":\"markers\",\"name\":\"Guarda Principal (6.02994357779801, 5.166381652466953)\",\"x\":[6.02994357779801],\"y\":[5.166381652466953],\"type\":\"scatter\"},{\"marker\":{\"color\":\"black\",\"size\":15,\"symbol\":\"star\"},\"mode\":\"markers\",\"name\":\"Guarda Principal (-2.07887961063534, 10.59418018348515)\",\"x\":[-2.07887961063534],\"y\":[10.59418018348515],\"type\":\"scatter\"},{\"marker\":{\"color\":\"black\",\"size\":15,\"symbol\":\"star\"},\"mode\":\"markers\",\"name\":\"Guarda Principal (1.7794214878231287, 3.6012997422367334)\",\"x\":[1.7794214878231287],\"y\":[3.6012997422367334],\"type\":\"scatter\"},{\"marker\":{\"color\":\"gold\",\"size\":15,\"symbol\":\"circle\"},\"mode\":\"markers\",\"name\":\"Guarda Auxiliar (4.9611933985725045, 6.6241475231945515)\",\"x\":[4.9611933985725045],\"y\":[6.6241475231945515],\"type\":\"scatter\"},{\"marker\":{\"color\":\"gold\",\"size\":15,\"symbol\":\"circle\"},\"mode\":\"markers\",\"name\":\"Guarda Auxiliar (8.396478367969394, 1.4151372937485576)\",\"x\":[8.396478367969394],\"y\":[1.4151372937485576],\"type\":\"scatter\"}],                        {\"template\":{\"data\":{\"histogram2dcontour\":[{\"type\":\"histogram2dcontour\",\"colorbar\":{\"outlinewidth\":0,\"ticks\":\"\"},\"colorscale\":[[0.0,\"#0d0887\"],[0.1111111111111111,\"#46039f\"],[0.2222222222222222,\"#7201a8\"],[0.3333333333333333,\"#9c179e\"],[0.4444444444444444,\"#bd3786\"],[0.5555555555555556,\"#d8576b\"],[0.6666666666666666,\"#ed7953\"],[0.7777777777777778,\"#fb9f3a\"],[0.8888888888888888,\"#fdca26\"],[1.0,\"#f0f921\"]]}],\"choropleth\":[{\"type\":\"choropleth\",\"colorbar\":{\"outlinewidth\":0,\"ticks\":\"\"}}],\"histogram2d\":[{\"type\":\"histogram2d\",\"colorbar\":{\"outlinewidth\":0,\"ticks\":\"\"},\"colorscale\":[[0.0,\"#0d0887\"],[0.1111111111111111,\"#46039f\"],[0.2222222222222222,\"#7201a8\"],[0.3333333333333333,\"#9c179e\"],[0.4444444444444444,\"#bd3786\"],[0.5555555555555556,\"#d8576b\"],[0.6666666666666666,\"#ed7953\"],[0.7777777777777778,\"#fb9f3a\"],[0.8888888888888888,\"#fdca26\"],[1.0,\"#f0f921\"]]}],\"heatmap\":[{\"type\":\"heatmap\",\"colorbar\":{\"outlinewidth\":0,\"ticks\":\"\"},\"colorscale\":[[0.0,\"#0d0887\"],[0.1111111111111111,\"#46039f\"],[0.2222222222222222,\"#7201a8\"],[0.3333333333333333,\"#9c179e\"],[0.4444444444444444,\"#bd3786\"],[0.5555555555555556,\"#d8576b\"],[0.6666666666666666,\"#ed7953\"],[0.7777777777777778,\"#fb9f3a\"],[0.8888888888888888,\"#fdca26\"],[1.0,\"#f0f921\"]]}],\"heatmapgl\":[{\"type\":\"heatmapgl\",\"colorbar\":{\"outlinewidth\":0,\"ticks\":\"\"},\"colorscale\":[[0.0,\"#0d0887\"],[0.1111111111111111,\"#46039f\"],[0.2222222222222222,\"#7201a8\"],[0.3333333333333333,\"#9c179e\"],[0.4444444444444444,\"#bd3786\"],[0.5555555555555556,\"#d8576b\"],[0.6666666666666666,\"#ed7953\"],[0.7777777777777778,\"#fb9f3a\"],[0.8888888888888888,\"#fdca26\"],[1.0,\"#f0f921\"]]}],\"contourcarpet\":[{\"type\":\"contourcarpet\",\"colorbar\":{\"outlinewidth\":0,\"ticks\":\"\"}}],\"contour\":[{\"type\":\"contour\",\"colorbar\":{\"outlinewidth\":0,\"ticks\":\"\"},\"colorscale\":[[0.0,\"#0d0887\"],[0.1111111111111111,\"#46039f\"],[0.2222222222222222,\"#7201a8\"],[0.3333333333333333,\"#9c179e\"],[0.4444444444444444,\"#bd3786\"],[0.5555555555555556,\"#d8576b\"],[0.6666666666666666,\"#ed7953\"],[0.7777777777777778,\"#fb9f3a\"],[0.8888888888888888,\"#fdca26\"],[1.0,\"#f0f921\"]]}],\"surface\":[{\"type\":\"surface\",\"colorbar\":{\"outlinewidth\":0,\"ticks\":\"\"},\"colorscale\":[[0.0,\"#0d0887\"],[0.1111111111111111,\"#46039f\"],[0.2222222222222222,\"#7201a8\"],[0.3333333333333333,\"#9c179e\"],[0.4444444444444444,\"#bd3786\"],[0.5555555555555556,\"#d8576b\"],[0.6666666666666666,\"#ed7953\"],[0.7777777777777778,\"#fb9f3a\"],[0.8888888888888888,\"#fdca26\"],[1.0,\"#f0f921\"]]}],\"mesh3d\":[{\"type\":\"mesh3d\",\"colorbar\":{\"outlinewidth\":0,\"ticks\":\"\"}}],\"scatter\":[{\"fillpattern\":{\"fillmode\":\"overlay\",\"size\":10,\"solidity\":0.2},\"type\":\"scatter\"}],\"parcoords\":[{\"type\":\"parcoords\",\"line\":{\"colorbar\":{\"outlinewidth\":0,\"ticks\":\"\"}}}],\"scatterpolargl\":[{\"type\":\"scatterpolargl\",\"marker\":{\"colorbar\":{\"outlinewidth\":0,\"ticks\":\"\"}}}],\"bar\":[{\"error_x\":{\"color\":\"#2a3f5f\"},\"error_y\":{\"color\":\"#2a3f5f\"},\"marker\":{\"line\":{\"color\":\"#E5ECF6\",\"width\":0.5},\"pattern\":{\"fillmode\":\"overlay\",\"size\":10,\"solidity\":0.2}},\"type\":\"bar\"}],\"scattergeo\":[{\"type\":\"scattergeo\",\"marker\":{\"colorbar\":{\"outlinewidth\":0,\"ticks\":\"\"}}}],\"scatterpolar\":[{\"type\":\"scatterpolar\",\"marker\":{\"colorbar\":{\"outlinewidth\":0,\"ticks\":\"\"}}}],\"histogram\":[{\"marker\":{\"pattern\":{\"fillmode\":\"overlay\",\"size\":10,\"solidity\":0.2}},\"type\":\"histogram\"}],\"scattergl\":[{\"type\":\"scattergl\",\"marker\":{\"colorbar\":{\"outlinewidth\":0,\"ticks\":\"\"}}}],\"scatter3d\":[{\"type\":\"scatter3d\",\"line\":{\"colorbar\":{\"outlinewidth\":0,\"ticks\":\"\"}},\"marker\":{\"colorbar\":{\"outlinewidth\":0,\"ticks\":\"\"}}}],\"scattermapbox\":[{\"type\":\"scattermapbox\",\"marker\":{\"colorbar\":{\"outlinewidth\":0,\"ticks\":\"\"}}}],\"scatterternary\":[{\"type\":\"scatterternary\",\"marker\":{\"colorbar\":{\"outlinewidth\":0,\"ticks\":\"\"}}}],\"scattercarpet\":[{\"type\":\"scattercarpet\",\"marker\":{\"colorbar\":{\"outlinewidth\":0,\"ticks\":\"\"}}}],\"carpet\":[{\"aaxis\":{\"endlinecolor\":\"#2a3f5f\",\"gridcolor\":\"white\",\"linecolor\":\"white\",\"minorgridcolor\":\"white\",\"startlinecolor\":\"#2a3f5f\"},\"baxis\":{\"endlinecolor\":\"#2a3f5f\",\"gridcolor\":\"white\",\"linecolor\":\"white\",\"minorgridcolor\":\"white\",\"startlinecolor\":\"#2a3f5f\"},\"type\":\"carpet\"}],\"table\":[{\"cells\":{\"fill\":{\"color\":\"#EBF0F8\"},\"line\":{\"color\":\"white\"}},\"header\":{\"fill\":{\"color\":\"#C8D4E3\"},\"line\":{\"color\":\"white\"}},\"type\":\"table\"}],\"barpolar\":[{\"marker\":{\"line\":{\"color\":\"#E5ECF6\",\"width\":0.5},\"pattern\":{\"fillmode\":\"overlay\",\"size\":10,\"solidity\":0.2}},\"type\":\"barpolar\"}],\"pie\":[{\"automargin\":true,\"type\":\"pie\"}]},\"layout\":{\"autotypenumbers\":\"strict\",\"colorway\":[\"#636efa\",\"#EF553B\",\"#00cc96\",\"#ab63fa\",\"#FFA15A\",\"#19d3f3\",\"#FF6692\",\"#B6E880\",\"#FF97FF\",\"#FECB52\"],\"font\":{\"color\":\"#2a3f5f\"},\"hovermode\":\"closest\",\"hoverlabel\":{\"align\":\"left\"},\"paper_bgcolor\":\"white\",\"plot_bgcolor\":\"#E5ECF6\",\"polar\":{\"bgcolor\":\"#E5ECF6\",\"angularaxis\":{\"gridcolor\":\"white\",\"linecolor\":\"white\",\"ticks\":\"\"},\"radialaxis\":{\"gridcolor\":\"white\",\"linecolor\":\"white\",\"ticks\":\"\"}},\"ternary\":{\"bgcolor\":\"#E5ECF6\",\"aaxis\":{\"gridcolor\":\"white\",\"linecolor\":\"white\",\"ticks\":\"\"},\"baxis\":{\"gridcolor\":\"white\",\"linecolor\":\"white\",\"ticks\":\"\"},\"caxis\":{\"gridcolor\":\"white\",\"linecolor\":\"white\",\"ticks\":\"\"}},\"coloraxis\":{\"colorbar\":{\"outlinewidth\":0,\"ticks\":\"\"}},\"colorscale\":{\"sequential\":[[0.0,\"#0d0887\"],[0.1111111111111111,\"#46039f\"],[0.2222222222222222,\"#7201a8\"],[0.3333333333333333,\"#9c179e\"],[0.4444444444444444,\"#bd3786\"],[0.5555555555555556,\"#d8576b\"],[0.6666666666666666,\"#ed7953\"],[0.7777777777777778,\"#fb9f3a\"],[0.8888888888888888,\"#fdca26\"],[1.0,\"#f0f921\"]],\"sequentialminus\":[[0.0,\"#0d0887\"],[0.1111111111111111,\"#46039f\"],[0.2222222222222222,\"#7201a8\"],[0.3333333333333333,\"#9c179e\"],[0.4444444444444444,\"#bd3786\"],[0.5555555555555556,\"#d8576b\"],[0.6666666666666666,\"#ed7953\"],[0.7777777777777778,\"#fb9f3a\"],[0.8888888888888888,\"#fdca26\"],[1.0,\"#f0f921\"]],\"diverging\":[[0,\"#8e0152\"],[0.1,\"#c51b7d\"],[0.2,\"#de77ae\"],[0.3,\"#f1b6da\"],[0.4,\"#fde0ef\"],[0.5,\"#f7f7f7\"],[0.6,\"#e6f5d0\"],[0.7,\"#b8e186\"],[0.8,\"#7fbc41\"],[0.9,\"#4d9221\"],[1,\"#276419\"]]},\"xaxis\":{\"gridcolor\":\"white\",\"linecolor\":\"white\",\"ticks\":\"\",\"title\":{\"standoff\":15},\"zerolinecolor\":\"white\",\"automargin\":true,\"zerolinewidth\":2},\"yaxis\":{\"gridcolor\":\"white\",\"linecolor\":\"white\",\"ticks\":\"\",\"title\":{\"standoff\":15},\"zerolinecolor\":\"white\",\"automargin\":true,\"zerolinewidth\":2},\"scene\":{\"xaxis\":{\"backgroundcolor\":\"#E5ECF6\",\"gridcolor\":\"white\",\"linecolor\":\"white\",\"showbackground\":true,\"ticks\":\"\",\"zerolinecolor\":\"white\",\"gridwidth\":2},\"yaxis\":{\"backgroundcolor\":\"#E5ECF6\",\"gridcolor\":\"white\",\"linecolor\":\"white\",\"showbackground\":true,\"ticks\":\"\",\"zerolinecolor\":\"white\",\"gridwidth\":2},\"zaxis\":{\"backgroundcolor\":\"#E5ECF6\",\"gridcolor\":\"white\",\"linecolor\":\"white\",\"showbackground\":true,\"ticks\":\"\",\"zerolinecolor\":\"white\",\"gridwidth\":2}},\"shapedefaults\":{\"line\":{\"color\":\"#2a3f5f\"}},\"annotationdefaults\":{\"arrowcolor\":\"#2a3f5f\",\"arrowhead\":0,\"arrowwidth\":1},\"geo\":{\"bgcolor\":\"white\",\"landcolor\":\"#E5ECF6\",\"subunitcolor\":\"white\",\"showland\":true,\"showlakes\":true,\"lakecolor\":\"white\"},\"title\":{\"x\":0.05},\"mapbox\":{\"style\":\"light\"}}},\"margin\":{\"l\":10,\"r\":10,\"t\":100,\"b\":50},\"updatemenus\":[{\"buttons\":[{\"args\":[null,{\"frame\":{\"duration\":1000,\"redraw\":true},\"fromcurrent\":true,\"mode\":\"immediate\"}],\"label\":\"Play\",\"method\":\"animate\"},{\"args\":[[null],{\"frame\":{\"duration\":0,\"redraw\":true},\"mode\":\"immediate\"}],\"label\":\"Pause\",\"method\":\"animate\"}],\"showactive\":false,\"type\":\"buttons\",\"x\":0.025,\"xanchor\":\"left\",\"y\":-0.05,\"yanchor\":\"top\"}],\"sliders\":[{\"currentvalue\":{\"font\":{\"size\":20},\"prefix\":\"Tri\\u00e2ngulos: \",\"visible\":true,\"xanchor\":\"left\"},\"len\":0.9,\"pad\":{\"b\":10,\"t\":10},\"steps\":[{\"args\":[[\"1\"],{\"frame\":{\"duration\":0,\"redraw\":true},\"mode\":\"immediate\"}],\"label\":\"1\",\"method\":\"animate\"},{\"args\":[[\"2\"],{\"frame\":{\"duration\":0,\"redraw\":true},\"mode\":\"immediate\"}],\"label\":\"2\",\"method\":\"animate\"},{\"args\":[[\"3\"],{\"frame\":{\"duration\":0,\"redraw\":true},\"mode\":\"immediate\"}],\"label\":\"3\",\"method\":\"animate\"},{\"args\":[[\"4\"],{\"frame\":{\"duration\":0,\"redraw\":true},\"mode\":\"immediate\"}],\"label\":\"4\",\"method\":\"animate\"},{\"args\":[[\"5\"],{\"frame\":{\"duration\":0,\"redraw\":true},\"mode\":\"immediate\"}],\"label\":\"5\",\"method\":\"animate\"},{\"args\":[[\"6\"],{\"frame\":{\"duration\":0,\"redraw\":true},\"mode\":\"immediate\"}],\"label\":\"6\",\"method\":\"animate\"},{\"args\":[[\"7\"],{\"frame\":{\"duration\":0,\"redraw\":true},\"mode\":\"immediate\"}],\"label\":\"7\",\"method\":\"animate\"},{\"args\":[[\"8\"],{\"frame\":{\"duration\":0,\"redraw\":true},\"mode\":\"immediate\"}],\"label\":\"8\",\"method\":\"animate\"},{\"args\":[[\"9\"],{\"frame\":{\"duration\":0,\"redraw\":true},\"mode\":\"immediate\"}],\"label\":\"9\",\"method\":\"animate\"},{\"args\":[[\"10\"],{\"frame\":{\"duration\":0,\"redraw\":true},\"mode\":\"immediate\"}],\"label\":\"10\",\"method\":\"animate\"},{\"args\":[[\"11\"],{\"frame\":{\"duration\":0,\"redraw\":true},\"mode\":\"immediate\"}],\"label\":\"11\",\"method\":\"animate\"},{\"args\":[[\"12\"],{\"frame\":{\"duration\":0,\"redraw\":true},\"mode\":\"immediate\"}],\"label\":\"12\",\"method\":\"animate\"},{\"args\":[[\"13\"],{\"frame\":{\"duration\":0,\"redraw\":true},\"mode\":\"immediate\"}],\"label\":\"13\",\"method\":\"animate\"},{\"args\":[[\"14\"],{\"frame\":{\"duration\":0,\"redraw\":true},\"mode\":\"immediate\"}],\"label\":\"14\",\"method\":\"animate\"},{\"args\":[[\"15\"],{\"frame\":{\"duration\":0,\"redraw\":true},\"mode\":\"immediate\"}],\"label\":\"15\",\"method\":\"animate\"},{\"args\":[[\"16\"],{\"frame\":{\"duration\":0,\"redraw\":true},\"mode\":\"immediate\"}],\"label\":\"16\",\"method\":\"animate\"},{\"args\":[[\"17\"],{\"frame\":{\"duration\":0,\"redraw\":true},\"mode\":\"immediate\"}],\"label\":\"17\",\"method\":\"animate\"},{\"args\":[[\"18\"],{\"frame\":{\"duration\":0,\"redraw\":true},\"mode\":\"immediate\"}],\"label\":\"18\",\"method\":\"animate\"}],\"transition\":{\"duration\":0,\"easing\":\"cubic-in-out\"},\"x\":0.1,\"xanchor\":\"left\",\"y\":0,\"yanchor\":\"top\"}],\"width\":1200,\"height\":700,\"showlegend\":false,\"title\":{\"text\":\"\\u003cb\\u003eTotal de Tri\\u00e2ngulos:\\u003c\\u002fb\\u003e \\u003cb\\u003e18\\u003c\\u002fb\\u003e\\u003cbr\\u003e\\u003cb\\u003eGuardas Principais:\\u003c\\u002fb\\u003e \\u003cb\\u003e4\\u003c\\u002fb\\u003e\\u003cbr\\u003e\\u003cb\\u003eGuardas Auxiliares:\\u003c\\u002fb\\u003e \\u003cb\\u003e2\\u003c\\u002fb\\u003e\",\"y\":0.95}},                        {\"responsive\": true}                    ).then(function(){\n",
              "                            Plotly.addFrames('ffa7dd9b-ddba-4034-816f-a4e84499f4ec', [{\"data\":[{\"mode\":\"lines+markers\",\"name\":\"Pol\\u00edgono\",\"x\":[13.457956898957491,6.02994357779801,14.371699444949627,10.524101944640279,7.960428941063583,6.063302546739578,1.1055243937298656,4.9611933985725045,1.1962371300905943,0.9236021423712373,-2.07887961063534,-1.0737016657367349,1.7794214878231287,-2.6324191633611917,0.29969748482108116,1.3280397830531,8.396478367969394,4.281529672443867,8.537105253897607,13.457956898957491],\"y\":[1.674550924450159,5.166381652466953,7.6566993575543165,8.135235727764666,7.357903410680592,8.137893987819552,9.879952398128808,6.6241475231945515,5.9769277311861515,8.456226022914052,10.59418018348515,6.519793280400336,3.6012997422367334,6.165341864340007,2.4833146380260587,2.2248622067272663,1.4151372937485576,5.073829357512295,3.4736779229715466,1.674550924450159],\"type\":\"scatter\"},{\"fill\":\"toself\",\"mode\":\"lines+markers\",\"name\":\"Tri\\u00e2ngulos\",\"x\":[],\"y\":[],\"type\":\"scatter\"},{\"fill\":\"toself\",\"line\":{\"color\":\"blue\"},\"mode\":\"lines+markers\",\"name\":\"\\u00daltimo Tri\\u00e2ngulo\",\"x\":[13.457956898957491,11.057615973986685,6.02994357779801,null],\"y\":[1.674550924450159,5.131150851026177,5.166381652466953,null],\"type\":\"scatter\"}],\"name\":\"1\"},{\"data\":[{\"mode\":\"lines+markers\",\"name\":\"Pol\\u00edgono\",\"x\":[13.457956898957491,6.02994357779801,10.524101944640279,7.960428941063583,6.063302546739578,1.1055243937298656,4.9611933985725045,1.1962371300905943,0.9236021423712373,-2.07887961063534,-1.0737016657367349,1.7794214878231287,-2.6324191633611917,0.29969748482108116,1.3280397830531,8.396478367969394,4.281529672443867,8.537105253897607,13.457956898957491],\"y\":[1.674550924450159,5.166381652466953,8.135235727764666,7.357903410680592,8.137893987819552,9.879952398128808,6.6241475231945515,5.9769277311861515,8.456226022914052,10.59418018348515,6.519793280400336,3.6012997422367334,6.165341864340007,2.4833146380260587,2.2248622067272663,1.4151372937485576,5.073829357512295,3.4736779229715466,1.674550924450159],\"type\":\"scatter\"},{\"fill\":\"toself\",\"mode\":\"lines+markers\",\"name\":\"Tri\\u00e2ngulos\",\"x\":[13.457956898957491,11.057615973986685,6.02994357779801,null],\"y\":[1.674550924450159,5.131150851026177,5.166381652466953,null],\"type\":\"scatter\"},{\"fill\":\"toself\",\"line\":{\"color\":\"blue\"},\"mode\":\"lines+markers\",\"name\":\"\\u00daltimo Tri\\u00e2ngulo\",\"x\":[6.02994357779801,14.371699444949627,10.524101944640279,null],\"y\":[5.166381652466953,7.6566993575543165,8.135235727764666,null],\"type\":\"scatter\"}],\"name\":\"2\"},{\"data\":[{\"mode\":\"lines+markers\",\"name\":\"Pol\\u00edgono\",\"x\":[13.457956898957491,6.02994357779801,7.960428941063583,6.063302546739578,1.1055243937298656,4.9611933985725045,1.1962371300905943,0.9236021423712373,-2.07887961063534,-1.0737016657367349,1.7794214878231287,-2.6324191633611917,0.29969748482108116,1.3280397830531,8.396478367969394,4.281529672443867,8.537105253897607,13.457956898957491],\"y\":[1.674550924450159,5.166381652466953,7.357903410680592,8.137893987819552,9.879952398128808,6.6241475231945515,5.9769277311861515,8.456226022914052,10.59418018348515,6.519793280400336,3.6012997422367334,6.165341864340007,2.4833146380260587,2.2248622067272663,1.4151372937485576,5.073829357512295,3.4736779229715466,1.674550924450159],\"type\":\"scatter\"},{\"fill\":\"toself\",\"mode\":\"lines+markers\",\"name\":\"Tri\\u00e2ngulos\",\"x\":[13.457956898957491,11.057615973986685,6.02994357779801,null,6.02994357779801,14.371699444949627,10.524101944640279,null],\"y\":[1.674550924450159,5.131150851026177,5.166381652466953,null,5.166381652466953,7.6566993575543165,8.135235727764666,null],\"type\":\"scatter\"},{\"fill\":\"toself\",\"line\":{\"color\":\"blue\"},\"mode\":\"lines+markers\",\"name\":\"\\u00daltimo Tri\\u00e2ngulo\",\"x\":[6.02994357779801,10.524101944640279,7.960428941063583,null],\"y\":[5.166381652466953,8.135235727764666,7.357903410680592,null],\"type\":\"scatter\"}],\"name\":\"3\"},{\"data\":[{\"mode\":\"lines+markers\",\"name\":\"Pol\\u00edgono\",\"x\":[13.457956898957491,6.02994357779801,6.063302546739578,1.1055243937298656,4.9611933985725045,1.1962371300905943,0.9236021423712373,-2.07887961063534,-1.0737016657367349,1.7794214878231287,-2.6324191633611917,0.29969748482108116,1.3280397830531,8.396478367969394,4.281529672443867,8.537105253897607,13.457956898957491],\"y\":[1.674550924450159,5.166381652466953,8.137893987819552,9.879952398128808,6.6241475231945515,5.9769277311861515,8.456226022914052,10.59418018348515,6.519793280400336,3.6012997422367334,6.165341864340007,2.4833146380260587,2.2248622067272663,1.4151372937485576,5.073829357512295,3.4736779229715466,1.674550924450159],\"type\":\"scatter\"},{\"fill\":\"toself\",\"mode\":\"lines+markers\",\"name\":\"Tri\\u00e2ngulos\",\"x\":[13.457956898957491,11.057615973986685,6.02994357779801,null,6.02994357779801,14.371699444949627,10.524101944640279,null,6.02994357779801,10.524101944640279,7.960428941063583,null],\"y\":[1.674550924450159,5.131150851026177,5.166381652466953,null,5.166381652466953,7.6566993575543165,8.135235727764666,null,5.166381652466953,8.135235727764666,7.357903410680592,null],\"type\":\"scatter\"},{\"fill\":\"toself\",\"line\":{\"color\":\"blue\"},\"mode\":\"lines+markers\",\"name\":\"\\u00daltimo Tri\\u00e2ngulo\",\"x\":[6.02994357779801,7.960428941063583,6.063302546739578,null],\"y\":[5.166381652466953,7.357903410680592,8.137893987819552,null],\"type\":\"scatter\"}],\"name\":\"4\"},{\"data\":[{\"mode\":\"lines+markers\",\"name\":\"Pol\\u00edgono\",\"x\":[13.457956898957491,6.02994357779801,6.063302546739578,4.9611933985725045,1.1962371300905943,0.9236021423712373,-2.07887961063534,-1.0737016657367349,1.7794214878231287,-2.6324191633611917,0.29969748482108116,1.3280397830531,8.396478367969394,4.281529672443867,8.537105253897607,13.457956898957491],\"y\":[1.674550924450159,5.166381652466953,8.137893987819552,6.6241475231945515,5.9769277311861515,8.456226022914052,10.59418018348515,6.519793280400336,3.6012997422367334,6.165341864340007,2.4833146380260587,2.2248622067272663,1.4151372937485576,5.073829357512295,3.4736779229715466,1.674550924450159],\"type\":\"scatter\"},{\"fill\":\"toself\",\"mode\":\"lines+markers\",\"name\":\"Tri\\u00e2ngulos\",\"x\":[13.457956898957491,11.057615973986685,6.02994357779801,null,6.02994357779801,14.371699444949627,10.524101944640279,null,6.02994357779801,10.524101944640279,7.960428941063583,null,6.02994357779801,7.960428941063583,6.063302546739578,null],\"y\":[1.674550924450159,5.131150851026177,5.166381652466953,null,5.166381652466953,7.6566993575543165,8.135235727764666,null,5.166381652466953,8.135235727764666,7.357903410680592,null,5.166381652466953,7.357903410680592,8.137893987819552,null],\"type\":\"scatter\"},{\"fill\":\"toself\",\"line\":{\"color\":\"blue\"},\"mode\":\"lines+markers\",\"name\":\"\\u00daltimo Tri\\u00e2ngulo\",\"x\":[6.063302546739578,1.1055243937298656,4.9611933985725045,null],\"y\":[8.137893987819552,9.879952398128808,6.6241475231945515,null],\"type\":\"scatter\"}],\"name\":\"5\"},{\"data\":[{\"mode\":\"lines+markers\",\"name\":\"Pol\\u00edgono\",\"x\":[13.457956898957491,6.02994357779801,4.9611933985725045,1.1962371300905943,0.9236021423712373,-2.07887961063534,-1.0737016657367349,1.7794214878231287,-2.6324191633611917,0.29969748482108116,1.3280397830531,8.396478367969394,4.281529672443867,8.537105253897607,13.457956898957491],\"y\":[1.674550924450159,5.166381652466953,6.6241475231945515,5.9769277311861515,8.456226022914052,10.59418018348515,6.519793280400336,3.6012997422367334,6.165341864340007,2.4833146380260587,2.2248622067272663,1.4151372937485576,5.073829357512295,3.4736779229715466,1.674550924450159],\"type\":\"scatter\"},{\"fill\":\"toself\",\"mode\":\"lines+markers\",\"name\":\"Tri\\u00e2ngulos\",\"x\":[13.457956898957491,11.057615973986685,6.02994357779801,null,6.02994357779801,14.371699444949627,10.524101944640279,null,6.02994357779801,10.524101944640279,7.960428941063583,null,6.02994357779801,7.960428941063583,6.063302546739578,null,6.063302546739578,1.1055243937298656,4.9611933985725045,null],\"y\":[1.674550924450159,5.131150851026177,5.166381652466953,null,5.166381652466953,7.6566993575543165,8.135235727764666,null,5.166381652466953,8.135235727764666,7.357903410680592,null,5.166381652466953,7.357903410680592,8.137893987819552,null,8.137893987819552,9.879952398128808,6.6241475231945515,null],\"type\":\"scatter\"},{\"fill\":\"toself\",\"line\":{\"color\":\"blue\"},\"mode\":\"lines+markers\",\"name\":\"\\u00daltimo Tri\\u00e2ngulo\",\"x\":[6.02994357779801,6.063302546739578,4.9611933985725045,null],\"y\":[5.166381652466953,8.137893987819552,6.6241475231945515,null],\"type\":\"scatter\"}],\"name\":\"6\"},{\"data\":[{\"mode\":\"lines+markers\",\"name\":\"Pol\\u00edgono\",\"x\":[13.457956898957491,6.02994357779801,1.1962371300905943,0.9236021423712373,-2.07887961063534,-1.0737016657367349,1.7794214878231287,-2.6324191633611917,0.29969748482108116,1.3280397830531,8.396478367969394,4.281529672443867,8.537105253897607,13.457956898957491],\"y\":[1.674550924450159,5.166381652466953,5.9769277311861515,8.456226022914052,10.59418018348515,6.519793280400336,3.6012997422367334,6.165341864340007,2.4833146380260587,2.2248622067272663,1.4151372937485576,5.073829357512295,3.4736779229715466,1.674550924450159],\"type\":\"scatter\"},{\"fill\":\"toself\",\"mode\":\"lines+markers\",\"name\":\"Tri\\u00e2ngulos\",\"x\":[13.457956898957491,11.057615973986685,6.02994357779801,null,6.02994357779801,14.371699444949627,10.524101944640279,null,6.02994357779801,10.524101944640279,7.960428941063583,null,6.02994357779801,7.960428941063583,6.063302546739578,null,6.063302546739578,1.1055243937298656,4.9611933985725045,null,6.02994357779801,6.063302546739578,4.9611933985725045,null],\"y\":[1.674550924450159,5.131150851026177,5.166381652466953,null,5.166381652466953,7.6566993575543165,8.135235727764666,null,5.166381652466953,8.135235727764666,7.357903410680592,null,5.166381652466953,7.357903410680592,8.137893987819552,null,8.137893987819552,9.879952398128808,6.6241475231945515,null,5.166381652466953,8.137893987819552,6.6241475231945515,null],\"type\":\"scatter\"},{\"fill\":\"toself\",\"line\":{\"color\":\"blue\"},\"mode\":\"lines+markers\",\"name\":\"\\u00daltimo Tri\\u00e2ngulo\",\"x\":[6.02994357779801,4.9611933985725045,1.1962371300905943,null],\"y\":[5.166381652466953,6.6241475231945515,5.9769277311861515,null],\"type\":\"scatter\"}],\"name\":\"7\"},{\"data\":[{\"mode\":\"lines+markers\",\"name\":\"Pol\\u00edgono\",\"x\":[13.457956898957491,6.02994357779801,1.1962371300905943,-2.07887961063534,-1.0737016657367349,1.7794214878231287,-2.6324191633611917,0.29969748482108116,1.3280397830531,8.396478367969394,4.281529672443867,8.537105253897607,13.457956898957491],\"y\":[1.674550924450159,5.166381652466953,5.9769277311861515,10.59418018348515,6.519793280400336,3.6012997422367334,6.165341864340007,2.4833146380260587,2.2248622067272663,1.4151372937485576,5.073829357512295,3.4736779229715466,1.674550924450159],\"type\":\"scatter\"},{\"fill\":\"toself\",\"mode\":\"lines+markers\",\"name\":\"Tri\\u00e2ngulos\",\"x\":[13.457956898957491,11.057615973986685,6.02994357779801,null,6.02994357779801,14.371699444949627,10.524101944640279,null,6.02994357779801,10.524101944640279,7.960428941063583,null,6.02994357779801,7.960428941063583,6.063302546739578,null,6.063302546739578,1.1055243937298656,4.9611933985725045,null,6.02994357779801,6.063302546739578,4.9611933985725045,null,6.02994357779801,4.9611933985725045,1.1962371300905943,null],\"y\":[1.674550924450159,5.131150851026177,5.166381652466953,null,5.166381652466953,7.6566993575543165,8.135235727764666,null,5.166381652466953,8.135235727764666,7.357903410680592,null,5.166381652466953,7.357903410680592,8.137893987819552,null,8.137893987819552,9.879952398128808,6.6241475231945515,null,5.166381652466953,8.137893987819552,6.6241475231945515,null,5.166381652466953,6.6241475231945515,5.9769277311861515,null],\"type\":\"scatter\"},{\"fill\":\"toself\",\"line\":{\"color\":\"blue\"},\"mode\":\"lines+markers\",\"name\":\"\\u00daltimo Tri\\u00e2ngulo\",\"x\":[1.1962371300905943,0.9236021423712373,-2.07887961063534,null],\"y\":[5.9769277311861515,8.456226022914052,10.59418018348515,null],\"type\":\"scatter\"}],\"name\":\"8\"},{\"data\":[{\"mode\":\"lines+markers\",\"name\":\"Pol\\u00edgono\",\"x\":[13.457956898957491,6.02994357779801,1.1962371300905943,-1.0737016657367349,1.7794214878231287,-2.6324191633611917,0.29969748482108116,1.3280397830531,8.396478367969394,4.281529672443867,8.537105253897607,13.457956898957491],\"y\":[1.674550924450159,5.166381652466953,5.9769277311861515,6.519793280400336,3.6012997422367334,6.165341864340007,2.4833146380260587,2.2248622067272663,1.4151372937485576,5.073829357512295,3.4736779229715466,1.674550924450159],\"type\":\"scatter\"},{\"fill\":\"toself\",\"mode\":\"lines+markers\",\"name\":\"Tri\\u00e2ngulos\",\"x\":[13.457956898957491,11.057615973986685,6.02994357779801,null,6.02994357779801,14.371699444949627,10.524101944640279,null,6.02994357779801,10.524101944640279,7.960428941063583,null,6.02994357779801,7.960428941063583,6.063302546739578,null,6.063302546739578,1.1055243937298656,4.9611933985725045,null,6.02994357779801,6.063302546739578,4.9611933985725045,null,6.02994357779801,4.9611933985725045,1.1962371300905943,null,1.1962371300905943,0.9236021423712373,-2.07887961063534,null],\"y\":[1.674550924450159,5.131150851026177,5.166381652466953,null,5.166381652466953,7.6566993575543165,8.135235727764666,null,5.166381652466953,8.135235727764666,7.357903410680592,null,5.166381652466953,7.357903410680592,8.137893987819552,null,8.137893987819552,9.879952398128808,6.6241475231945515,null,5.166381652466953,8.137893987819552,6.6241475231945515,null,5.166381652466953,6.6241475231945515,5.9769277311861515,null,5.9769277311861515,8.456226022914052,10.59418018348515,null],\"type\":\"scatter\"},{\"fill\":\"toself\",\"line\":{\"color\":\"blue\"},\"mode\":\"lines+markers\",\"name\":\"\\u00daltimo Tri\\u00e2ngulo\",\"x\":[1.1962371300905943,-2.07887961063534,-1.0737016657367349,null],\"y\":[5.9769277311861515,10.59418018348515,6.519793280400336,null],\"type\":\"scatter\"}],\"name\":\"9\"},{\"data\":[{\"mode\":\"lines+markers\",\"name\":\"Pol\\u00edgono\",\"x\":[13.457956898957491,6.02994357779801,1.1962371300905943,1.7794214878231287,-2.6324191633611917,0.29969748482108116,1.3280397830531,8.396478367969394,4.281529672443867,8.537105253897607,13.457956898957491],\"y\":[1.674550924450159,5.166381652466953,5.9769277311861515,3.6012997422367334,6.165341864340007,2.4833146380260587,2.2248622067272663,1.4151372937485576,5.073829357512295,3.4736779229715466,1.674550924450159],\"type\":\"scatter\"},{\"fill\":\"toself\",\"mode\":\"lines+markers\",\"name\":\"Tri\\u00e2ngulos\",\"x\":[13.457956898957491,11.057615973986685,6.02994357779801,null,6.02994357779801,14.371699444949627,10.524101944640279,null,6.02994357779801,10.524101944640279,7.960428941063583,null,6.02994357779801,7.960428941063583,6.063302546739578,null,6.063302546739578,1.1055243937298656,4.9611933985725045,null,6.02994357779801,6.063302546739578,4.9611933985725045,null,6.02994357779801,4.9611933985725045,1.1962371300905943,null,1.1962371300905943,0.9236021423712373,-2.07887961063534,null,1.1962371300905943,-2.07887961063534,-1.0737016657367349,null],\"y\":[1.674550924450159,5.131150851026177,5.166381652466953,null,5.166381652466953,7.6566993575543165,8.135235727764666,null,5.166381652466953,8.135235727764666,7.357903410680592,null,5.166381652466953,7.357903410680592,8.137893987819552,null,8.137893987819552,9.879952398128808,6.6241475231945515,null,5.166381652466953,8.137893987819552,6.6241475231945515,null,5.166381652466953,6.6241475231945515,5.9769277311861515,null,5.9769277311861515,8.456226022914052,10.59418018348515,null,5.9769277311861515,10.59418018348515,6.519793280400336,null],\"type\":\"scatter\"},{\"fill\":\"toself\",\"line\":{\"color\":\"blue\"},\"mode\":\"lines+markers\",\"name\":\"\\u00daltimo Tri\\u00e2ngulo\",\"x\":[1.1962371300905943,-1.0737016657367349,1.7794214878231287,null],\"y\":[5.9769277311861515,6.519793280400336,3.6012997422367334,null],\"type\":\"scatter\"}],\"name\":\"10\"},{\"data\":[{\"mode\":\"lines+markers\",\"name\":\"Pol\\u00edgono\",\"x\":[13.457956898957491,6.02994357779801,1.1962371300905943,1.7794214878231287,0.29969748482108116,1.3280397830531,8.396478367969394,4.281529672443867,8.537105253897607,13.457956898957491],\"y\":[1.674550924450159,5.166381652466953,5.9769277311861515,3.6012997422367334,2.4833146380260587,2.2248622067272663,1.4151372937485576,5.073829357512295,3.4736779229715466,1.674550924450159],\"type\":\"scatter\"},{\"fill\":\"toself\",\"mode\":\"lines+markers\",\"name\":\"Tri\\u00e2ngulos\",\"x\":[13.457956898957491,11.057615973986685,6.02994357779801,null,6.02994357779801,14.371699444949627,10.524101944640279,null,6.02994357779801,10.524101944640279,7.960428941063583,null,6.02994357779801,7.960428941063583,6.063302546739578,null,6.063302546739578,1.1055243937298656,4.9611933985725045,null,6.02994357779801,6.063302546739578,4.9611933985725045,null,6.02994357779801,4.9611933985725045,1.1962371300905943,null,1.1962371300905943,0.9236021423712373,-2.07887961063534,null,1.1962371300905943,-2.07887961063534,-1.0737016657367349,null,1.1962371300905943,-1.0737016657367349,1.7794214878231287,null],\"y\":[1.674550924450159,5.131150851026177,5.166381652466953,null,5.166381652466953,7.6566993575543165,8.135235727764666,null,5.166381652466953,8.135235727764666,7.357903410680592,null,5.166381652466953,7.357903410680592,8.137893987819552,null,8.137893987819552,9.879952398128808,6.6241475231945515,null,5.166381652466953,8.137893987819552,6.6241475231945515,null,5.166381652466953,6.6241475231945515,5.9769277311861515,null,5.9769277311861515,8.456226022914052,10.59418018348515,null,5.9769277311861515,10.59418018348515,6.519793280400336,null,5.9769277311861515,6.519793280400336,3.6012997422367334,null],\"type\":\"scatter\"},{\"fill\":\"toself\",\"line\":{\"color\":\"blue\"},\"mode\":\"lines+markers\",\"name\":\"\\u00daltimo Tri\\u00e2ngulo\",\"x\":[1.7794214878231287,-2.6324191633611917,0.29969748482108116,null],\"y\":[3.6012997422367334,6.165341864340007,2.4833146380260587,null],\"type\":\"scatter\"}],\"name\":\"11\"},{\"data\":[{\"mode\":\"lines+markers\",\"name\":\"Pol\\u00edgono\",\"x\":[13.457956898957491,6.02994357779801,1.1962371300905943,1.7794214878231287,1.3280397830531,8.396478367969394,4.281529672443867,8.537105253897607,13.457956898957491],\"y\":[1.674550924450159,5.166381652466953,5.9769277311861515,3.6012997422367334,2.2248622067272663,1.4151372937485576,5.073829357512295,3.4736779229715466,1.674550924450159],\"type\":\"scatter\"},{\"fill\":\"toself\",\"mode\":\"lines+markers\",\"name\":\"Tri\\u00e2ngulos\",\"x\":[13.457956898957491,11.057615973986685,6.02994357779801,null,6.02994357779801,14.371699444949627,10.524101944640279,null,6.02994357779801,10.524101944640279,7.960428941063583,null,6.02994357779801,7.960428941063583,6.063302546739578,null,6.063302546739578,1.1055243937298656,4.9611933985725045,null,6.02994357779801,6.063302546739578,4.9611933985725045,null,6.02994357779801,4.9611933985725045,1.1962371300905943,null,1.1962371300905943,0.9236021423712373,-2.07887961063534,null,1.1962371300905943,-2.07887961063534,-1.0737016657367349,null,1.1962371300905943,-1.0737016657367349,1.7794214878231287,null,1.7794214878231287,-2.6324191633611917,0.29969748482108116,null],\"y\":[1.674550924450159,5.131150851026177,5.166381652466953,null,5.166381652466953,7.6566993575543165,8.135235727764666,null,5.166381652466953,8.135235727764666,7.357903410680592,null,5.166381652466953,7.357903410680592,8.137893987819552,null,8.137893987819552,9.879952398128808,6.6241475231945515,null,5.166381652466953,8.137893987819552,6.6241475231945515,null,5.166381652466953,6.6241475231945515,5.9769277311861515,null,5.9769277311861515,8.456226022914052,10.59418018348515,null,5.9769277311861515,10.59418018348515,6.519793280400336,null,5.9769277311861515,6.519793280400336,3.6012997422367334,null,3.6012997422367334,6.165341864340007,2.4833146380260587,null],\"type\":\"scatter\"},{\"fill\":\"toself\",\"line\":{\"color\":\"blue\"},\"mode\":\"lines+markers\",\"name\":\"\\u00daltimo Tri\\u00e2ngulo\",\"x\":[1.7794214878231287,0.29969748482108116,1.3280397830531,null],\"y\":[3.6012997422367334,2.4833146380260587,2.2248622067272663,null],\"type\":\"scatter\"}],\"name\":\"12\"},{\"data\":[{\"mode\":\"lines+markers\",\"name\":\"Pol\\u00edgono\",\"x\":[13.457956898957491,6.02994357779801,1.1962371300905943,1.7794214878231287,8.396478367969394,4.281529672443867,8.537105253897607,13.457956898957491],\"y\":[1.674550924450159,5.166381652466953,5.9769277311861515,3.6012997422367334,1.4151372937485576,5.073829357512295,3.4736779229715466,1.674550924450159],\"type\":\"scatter\"},{\"fill\":\"toself\",\"mode\":\"lines+markers\",\"name\":\"Tri\\u00e2ngulos\",\"x\":[13.457956898957491,11.057615973986685,6.02994357779801,null,6.02994357779801,14.371699444949627,10.524101944640279,null,6.02994357779801,10.524101944640279,7.960428941063583,null,6.02994357779801,7.960428941063583,6.063302546739578,null,6.063302546739578,1.1055243937298656,4.9611933985725045,null,6.02994357779801,6.063302546739578,4.9611933985725045,null,6.02994357779801,4.9611933985725045,1.1962371300905943,null,1.1962371300905943,0.9236021423712373,-2.07887961063534,null,1.1962371300905943,-2.07887961063534,-1.0737016657367349,null,1.1962371300905943,-1.0737016657367349,1.7794214878231287,null,1.7794214878231287,-2.6324191633611917,0.29969748482108116,null,1.7794214878231287,0.29969748482108116,1.3280397830531,null],\"y\":[1.674550924450159,5.131150851026177,5.166381652466953,null,5.166381652466953,7.6566993575543165,8.135235727764666,null,5.166381652466953,8.135235727764666,7.357903410680592,null,5.166381652466953,7.357903410680592,8.137893987819552,null,8.137893987819552,9.879952398128808,6.6241475231945515,null,5.166381652466953,8.137893987819552,6.6241475231945515,null,5.166381652466953,6.6241475231945515,5.9769277311861515,null,5.9769277311861515,8.456226022914052,10.59418018348515,null,5.9769277311861515,10.59418018348515,6.519793280400336,null,5.9769277311861515,6.519793280400336,3.6012997422367334,null,3.6012997422367334,6.165341864340007,2.4833146380260587,null,3.6012997422367334,2.4833146380260587,2.2248622067272663,null],\"type\":\"scatter\"},{\"fill\":\"toself\",\"line\":{\"color\":\"blue\"},\"mode\":\"lines+markers\",\"name\":\"\\u00daltimo Tri\\u00e2ngulo\",\"x\":[1.7794214878231287,1.3280397830531,8.396478367969394,null],\"y\":[3.6012997422367334,2.2248622067272663,1.4151372937485576,null],\"type\":\"scatter\"}],\"name\":\"13\"},{\"data\":[{\"mode\":\"lines+markers\",\"name\":\"Pol\\u00edgono\",\"x\":[13.457956898957491,6.02994357779801,1.1962371300905943,8.396478367969394,4.281529672443867,8.537105253897607,13.457956898957491],\"y\":[1.674550924450159,5.166381652466953,5.9769277311861515,1.4151372937485576,5.073829357512295,3.4736779229715466,1.674550924450159],\"type\":\"scatter\"},{\"fill\":\"toself\",\"mode\":\"lines+markers\",\"name\":\"Tri\\u00e2ngulos\",\"x\":[13.457956898957491,11.057615973986685,6.02994357779801,null,6.02994357779801,14.371699444949627,10.524101944640279,null,6.02994357779801,10.524101944640279,7.960428941063583,null,6.02994357779801,7.960428941063583,6.063302546739578,null,6.063302546739578,1.1055243937298656,4.9611933985725045,null,6.02994357779801,6.063302546739578,4.9611933985725045,null,6.02994357779801,4.9611933985725045,1.1962371300905943,null,1.1962371300905943,0.9236021423712373,-2.07887961063534,null,1.1962371300905943,-2.07887961063534,-1.0737016657367349,null,1.1962371300905943,-1.0737016657367349,1.7794214878231287,null,1.7794214878231287,-2.6324191633611917,0.29969748482108116,null,1.7794214878231287,0.29969748482108116,1.3280397830531,null,1.7794214878231287,1.3280397830531,8.396478367969394,null],\"y\":[1.674550924450159,5.131150851026177,5.166381652466953,null,5.166381652466953,7.6566993575543165,8.135235727764666,null,5.166381652466953,8.135235727764666,7.357903410680592,null,5.166381652466953,7.357903410680592,8.137893987819552,null,8.137893987819552,9.879952398128808,6.6241475231945515,null,5.166381652466953,8.137893987819552,6.6241475231945515,null,5.166381652466953,6.6241475231945515,5.9769277311861515,null,5.9769277311861515,8.456226022914052,10.59418018348515,null,5.9769277311861515,10.59418018348515,6.519793280400336,null,5.9769277311861515,6.519793280400336,3.6012997422367334,null,3.6012997422367334,6.165341864340007,2.4833146380260587,null,3.6012997422367334,2.4833146380260587,2.2248622067272663,null,3.6012997422367334,2.2248622067272663,1.4151372937485576,null],\"type\":\"scatter\"},{\"fill\":\"toself\",\"line\":{\"color\":\"blue\"},\"mode\":\"lines+markers\",\"name\":\"\\u00daltimo Tri\\u00e2ngulo\",\"x\":[1.1962371300905943,1.7794214878231287,8.396478367969394,null],\"y\":[5.9769277311861515,3.6012997422367334,1.4151372937485576,null],\"type\":\"scatter\"}],\"name\":\"14\"},{\"data\":[{\"mode\":\"lines+markers\",\"name\":\"Pol\\u00edgono\",\"x\":[13.457956898957491,6.02994357779801,1.1962371300905943,4.281529672443867,8.537105253897607,13.457956898957491],\"y\":[1.674550924450159,5.166381652466953,5.9769277311861515,5.073829357512295,3.4736779229715466,1.674550924450159],\"type\":\"scatter\"},{\"fill\":\"toself\",\"mode\":\"lines+markers\",\"name\":\"Tri\\u00e2ngulos\",\"x\":[13.457956898957491,11.057615973986685,6.02994357779801,null,6.02994357779801,14.371699444949627,10.524101944640279,null,6.02994357779801,10.524101944640279,7.960428941063583,null,6.02994357779801,7.960428941063583,6.063302546739578,null,6.063302546739578,1.1055243937298656,4.9611933985725045,null,6.02994357779801,6.063302546739578,4.9611933985725045,null,6.02994357779801,4.9611933985725045,1.1962371300905943,null,1.1962371300905943,0.9236021423712373,-2.07887961063534,null,1.1962371300905943,-2.07887961063534,-1.0737016657367349,null,1.1962371300905943,-1.0737016657367349,1.7794214878231287,null,1.7794214878231287,-2.6324191633611917,0.29969748482108116,null,1.7794214878231287,0.29969748482108116,1.3280397830531,null,1.7794214878231287,1.3280397830531,8.396478367969394,null,1.1962371300905943,1.7794214878231287,8.396478367969394,null],\"y\":[1.674550924450159,5.131150851026177,5.166381652466953,null,5.166381652466953,7.6566993575543165,8.135235727764666,null,5.166381652466953,8.135235727764666,7.357903410680592,null,5.166381652466953,7.357903410680592,8.137893987819552,null,8.137893987819552,9.879952398128808,6.6241475231945515,null,5.166381652466953,8.137893987819552,6.6241475231945515,null,5.166381652466953,6.6241475231945515,5.9769277311861515,null,5.9769277311861515,8.456226022914052,10.59418018348515,null,5.9769277311861515,10.59418018348515,6.519793280400336,null,5.9769277311861515,6.519793280400336,3.6012997422367334,null,3.6012997422367334,6.165341864340007,2.4833146380260587,null,3.6012997422367334,2.4833146380260587,2.2248622067272663,null,3.6012997422367334,2.2248622067272663,1.4151372937485576,null,5.9769277311861515,3.6012997422367334,1.4151372937485576,null],\"type\":\"scatter\"},{\"fill\":\"toself\",\"line\":{\"color\":\"blue\"},\"mode\":\"lines+markers\",\"name\":\"\\u00daltimo Tri\\u00e2ngulo\",\"x\":[1.1962371300905943,8.396478367969394,4.281529672443867,null],\"y\":[5.9769277311861515,1.4151372937485576,5.073829357512295,null],\"type\":\"scatter\"}],\"name\":\"15\"},{\"data\":[{\"mode\":\"lines+markers\",\"name\":\"Pol\\u00edgono\",\"x\":[13.457956898957491,6.02994357779801,4.281529672443867,8.537105253897607,13.457956898957491],\"y\":[1.674550924450159,5.166381652466953,5.073829357512295,3.4736779229715466,1.674550924450159],\"type\":\"scatter\"},{\"fill\":\"toself\",\"mode\":\"lines+markers\",\"name\":\"Tri\\u00e2ngulos\",\"x\":[13.457956898957491,11.057615973986685,6.02994357779801,null,6.02994357779801,14.371699444949627,10.524101944640279,null,6.02994357779801,10.524101944640279,7.960428941063583,null,6.02994357779801,7.960428941063583,6.063302546739578,null,6.063302546739578,1.1055243937298656,4.9611933985725045,null,6.02994357779801,6.063302546739578,4.9611933985725045,null,6.02994357779801,4.9611933985725045,1.1962371300905943,null,1.1962371300905943,0.9236021423712373,-2.07887961063534,null,1.1962371300905943,-2.07887961063534,-1.0737016657367349,null,1.1962371300905943,-1.0737016657367349,1.7794214878231287,null,1.7794214878231287,-2.6324191633611917,0.29969748482108116,null,1.7794214878231287,0.29969748482108116,1.3280397830531,null,1.7794214878231287,1.3280397830531,8.396478367969394,null,1.1962371300905943,1.7794214878231287,8.396478367969394,null,1.1962371300905943,8.396478367969394,4.281529672443867,null],\"y\":[1.674550924450159,5.131150851026177,5.166381652466953,null,5.166381652466953,7.6566993575543165,8.135235727764666,null,5.166381652466953,8.135235727764666,7.357903410680592,null,5.166381652466953,7.357903410680592,8.137893987819552,null,8.137893987819552,9.879952398128808,6.6241475231945515,null,5.166381652466953,8.137893987819552,6.6241475231945515,null,5.166381652466953,6.6241475231945515,5.9769277311861515,null,5.9769277311861515,8.456226022914052,10.59418018348515,null,5.9769277311861515,10.59418018348515,6.519793280400336,null,5.9769277311861515,6.519793280400336,3.6012997422367334,null,3.6012997422367334,6.165341864340007,2.4833146380260587,null,3.6012997422367334,2.4833146380260587,2.2248622067272663,null,3.6012997422367334,2.2248622067272663,1.4151372937485576,null,5.9769277311861515,3.6012997422367334,1.4151372937485576,null,5.9769277311861515,1.4151372937485576,5.073829357512295,null],\"type\":\"scatter\"},{\"fill\":\"toself\",\"line\":{\"color\":\"blue\"},\"mode\":\"lines+markers\",\"name\":\"\\u00daltimo Tri\\u00e2ngulo\",\"x\":[6.02994357779801,1.1962371300905943,4.281529672443867,null],\"y\":[5.166381652466953,5.9769277311861515,5.073829357512295,null],\"type\":\"scatter\"}],\"name\":\"16\"},{\"data\":[{\"mode\":\"lines+markers\",\"name\":\"Pol\\u00edgono\",\"x\":[13.457956898957491,4.281529672443867,8.537105253897607,13.457956898957491],\"y\":[1.674550924450159,5.073829357512295,3.4736779229715466,1.674550924450159],\"type\":\"scatter\"},{\"fill\":\"toself\",\"mode\":\"lines+markers\",\"name\":\"Tri\\u00e2ngulos\",\"x\":[13.457956898957491,11.057615973986685,6.02994357779801,null,6.02994357779801,14.371699444949627,10.524101944640279,null,6.02994357779801,10.524101944640279,7.960428941063583,null,6.02994357779801,7.960428941063583,6.063302546739578,null,6.063302546739578,1.1055243937298656,4.9611933985725045,null,6.02994357779801,6.063302546739578,4.9611933985725045,null,6.02994357779801,4.9611933985725045,1.1962371300905943,null,1.1962371300905943,0.9236021423712373,-2.07887961063534,null,1.1962371300905943,-2.07887961063534,-1.0737016657367349,null,1.1962371300905943,-1.0737016657367349,1.7794214878231287,null,1.7794214878231287,-2.6324191633611917,0.29969748482108116,null,1.7794214878231287,0.29969748482108116,1.3280397830531,null,1.7794214878231287,1.3280397830531,8.396478367969394,null,1.1962371300905943,1.7794214878231287,8.396478367969394,null,1.1962371300905943,8.396478367969394,4.281529672443867,null,6.02994357779801,1.1962371300905943,4.281529672443867,null],\"y\":[1.674550924450159,5.131150851026177,5.166381652466953,null,5.166381652466953,7.6566993575543165,8.135235727764666,null,5.166381652466953,8.135235727764666,7.357903410680592,null,5.166381652466953,7.357903410680592,8.137893987819552,null,8.137893987819552,9.879952398128808,6.6241475231945515,null,5.166381652466953,8.137893987819552,6.6241475231945515,null,5.166381652466953,6.6241475231945515,5.9769277311861515,null,5.9769277311861515,8.456226022914052,10.59418018348515,null,5.9769277311861515,10.59418018348515,6.519793280400336,null,5.9769277311861515,6.519793280400336,3.6012997422367334,null,3.6012997422367334,6.165341864340007,2.4833146380260587,null,3.6012997422367334,2.4833146380260587,2.2248622067272663,null,3.6012997422367334,2.2248622067272663,1.4151372937485576,null,5.9769277311861515,3.6012997422367334,1.4151372937485576,null,5.9769277311861515,1.4151372937485576,5.073829357512295,null,5.166381652466953,5.9769277311861515,5.073829357512295,null],\"type\":\"scatter\"},{\"fill\":\"toself\",\"line\":{\"color\":\"blue\"},\"mode\":\"lines+markers\",\"name\":\"\\u00daltimo Tri\\u00e2ngulo\",\"x\":[13.457956898957491,6.02994357779801,4.281529672443867,null],\"y\":[1.674550924450159,5.166381652466953,5.073829357512295,null],\"type\":\"scatter\"}],\"name\":\"17\"},{\"data\":[{\"mode\":\"lines+markers\",\"name\":\"Pol\\u00edgono\",\"x\":[13.457956898957491,4.281529672443867,8.537105253897607,13.457956898957491],\"y\":[1.674550924450159,5.073829357512295,3.4736779229715466,1.674550924450159],\"type\":\"scatter\"},{\"fill\":\"toself\",\"mode\":\"lines+markers\",\"name\":\"Tri\\u00e2ngulos\",\"x\":[13.457956898957491,11.057615973986685,6.02994357779801,null,6.02994357779801,14.371699444949627,10.524101944640279,null,6.02994357779801,10.524101944640279,7.960428941063583,null,6.02994357779801,7.960428941063583,6.063302546739578,null,6.063302546739578,1.1055243937298656,4.9611933985725045,null,6.02994357779801,6.063302546739578,4.9611933985725045,null,6.02994357779801,4.9611933985725045,1.1962371300905943,null,1.1962371300905943,0.9236021423712373,-2.07887961063534,null,1.1962371300905943,-2.07887961063534,-1.0737016657367349,null,1.1962371300905943,-1.0737016657367349,1.7794214878231287,null,1.7794214878231287,-2.6324191633611917,0.29969748482108116,null,1.7794214878231287,0.29969748482108116,1.3280397830531,null,1.7794214878231287,1.3280397830531,8.396478367969394,null,1.1962371300905943,1.7794214878231287,8.396478367969394,null,1.1962371300905943,8.396478367969394,4.281529672443867,null,6.02994357779801,1.1962371300905943,4.281529672443867,null,13.457956898957491,4.281529672443867,8.537105253897607,null],\"y\":[1.674550924450159,5.131150851026177,5.166381652466953,null,5.166381652466953,7.6566993575543165,8.135235727764666,null,5.166381652466953,8.135235727764666,7.357903410680592,null,5.166381652466953,7.357903410680592,8.137893987819552,null,8.137893987819552,9.879952398128808,6.6241475231945515,null,5.166381652466953,8.137893987819552,6.6241475231945515,null,5.166381652466953,6.6241475231945515,5.9769277311861515,null,5.9769277311861515,8.456226022914052,10.59418018348515,null,5.9769277311861515,10.59418018348515,6.519793280400336,null,5.9769277311861515,6.519793280400336,3.6012997422367334,null,3.6012997422367334,6.165341864340007,2.4833146380260587,null,3.6012997422367334,2.4833146380260587,2.2248622067272663,null,3.6012997422367334,2.2248622067272663,1.4151372937485576,null,5.9769277311861515,3.6012997422367334,1.4151372937485576,null,5.9769277311861515,1.4151372937485576,5.073829357512295,null,5.166381652466953,5.9769277311861515,5.073829357512295,null,1.674550924450159,5.073829357512295,3.4736779229715466,null],\"type\":\"scatter\"}],\"name\":\"18\"}]);\n",
              "                        }).then(function(){\n",
              "                            \n",
              "var gd = document.getElementById('ffa7dd9b-ddba-4034-816f-a4e84499f4ec');\n",
              "var x = new MutationObserver(function (mutations, observer) {{\n",
              "        var display = window.getComputedStyle(gd).display;\n",
              "        if (!display || display === 'none') {{\n",
              "            console.log([gd, 'removed!']);\n",
              "            Plotly.purge(gd);\n",
              "            observer.disconnect();\n",
              "        }}\n",
              "}});\n",
              "\n",
              "// Listen for the removal of the full notebook cells\n",
              "var notebookContainer = gd.closest('#notebook-container');\n",
              "if (notebookContainer) {{\n",
              "    x.observe(notebookContainer, {childList: true});\n",
              "}}\n",
              "\n",
              "// Listen for the clearing of the current output cell\n",
              "var outputEl = gd.closest('.output');\n",
              "if (outputEl) {{\n",
              "    x.observe(outputEl, {childList: true});\n",
              "}}\n",
              "\n",
              "                        })                };                            </script>        </div>\n",
              "</body>\n",
              "</html>"
            ]
          },
          "metadata": {}
        }
      ]
    }
  ],
  "metadata": {
    "kernelspec": {
      "display_name": "Python 3 (ipykernel)",
      "language": "python",
      "name": "python3"
    },
    "language_info": {
      "codemirror_mode": {
        "name": "ipython",
        "version": 3
      },
      "file_extension": ".py",
      "mimetype": "text/x-python",
      "name": "python",
      "nbconvert_exporter": "python",
      "pygments_lexer": "ipython3",
      "version": "3.9.12"
    },
    "colab": {
      "provenance": [],
      "collapsed_sections": [
        "gF_JFfyoZ2_f",
        "B17W4Zo7Z6wV",
        "PoGnnrEMaGQu",
        "OlObu0D2aIp8",
        "aEqVB1p0ac6Z"
      ]
    }
  },
  "nbformat": 4,
  "nbformat_minor": 5
}
