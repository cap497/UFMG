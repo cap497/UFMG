{
  "nbformat": 4,
  "nbformat_minor": 0,
  "metadata": {
    "colab": {
      "provenance": []
    },
    "kernelspec": {
      "name": "python3",
      "display_name": "Python 3"
    },
    "language_info": {
      "name": "python"
    }
  },
  "cells": [
    {
      "cell_type": "code",
      "source": [
        "def cell(state, condition, transitions):\n",
        "  for i in range(len(transitions)):\n",
        "    if transitions[i][0] == state:\n",
        "      if transitions[i][1] == condition:\n",
        "        return transitions[i][2]\n",
        "  return False"
      ],
      "metadata": {
        "id": "auqDp3QwzTk3"
      },
      "execution_count": null,
      "outputs": []
    },
    {
      "cell_type": "code",
      "execution_count": null,
      "metadata": {
        "id": "zN_ywm37y7tq"
      },
      "outputs": [],
      "source": [
        "def turing(str):\n",
        "\n",
        "  # Separa a máquina e a palavra\n",
        "  machine, word = str.split(sep='000')\n",
        "\n",
        "  # Separa as transições com os estados finais no início\n",
        "  transitions = machine.split(sep='00')\n",
        "\n",
        "  # Separa os estados finais das transições\n",
        "  finals = transitions[0]\n",
        "  transitions = transitions[1:]\n",
        "\n",
        "  # Transformacoes de str para list, caso necessario\n",
        "  if(type(transitions) != list):\n",
        "    transitions = list(transitions.split(sep='0'))\n",
        "  if(type(finals) != list):\n",
        "    finals = list(finals.split(sep='0'))\n",
        "  if(type(word) != list):\n",
        "    word = list(word.split(sep='0'))\n",
        "\n",
        "  # Separacoes por '0':\n",
        "  mat = []\n",
        "  for i in range(len(finals)):\n",
        "    mat.append(finals[i].split(sep='0'))\n",
        "  finals = mat\n",
        "\n",
        "  mat = []\n",
        "  for i in range(len(transitions)):\n",
        "    mat.append(transitions[i].split(sep='0'))\n",
        "  transitions = mat\n",
        "\n",
        "  mat = []\n",
        "  for i in range(len(word)):\n",
        "    mat.append(word[i].split(sep='0'))\n",
        "  word = mat\n",
        "\n",
        "  # Transformacoes de str para int\n",
        "  for i in range(len(finals)):\n",
        "    finals[i][0] = int(finals[i][0])\n",
        "\n",
        "  for i in range(len(transitions)):\n",
        "    for j in range(5):\n",
        "      transitions[i][j] = int(transitions[i][j])\n",
        "\n",
        "  for i in range(len(word)):\n",
        "    word[i][0] = int(word[i][0])\n",
        "\n",
        "  # Contador para as celulas\n",
        "  count = len(finals) + 5 * len(transitions)\n",
        "\n",
        "  # Inicia a verificacao\n",
        "  # Estado inicial e' o 1 por padrao\n",
        "  actual = 1\n",
        "  i = 0\n",
        "  while count <= 1000:\n",
        "    actual = cell(actual,word[i][0],transitions)\n",
        "    count += 1\n",
        "    # Estado que nao leva a nenhum outro\n",
        "    if actual == False:\n",
        "      print('Rejeita')\n",
        "      break\n",
        "    # Chegou no final da palavra\n",
        "    if i == len(word) - 1:\n",
        "      if actual in finals[0]:\n",
        "        print('Aceita')\n",
        "      else:\n",
        "        print('Rejeita')\n",
        "      break\n",
        "    i += 1;\n",
        "    # Chegou no limite da fita\n",
        "    if count > 1000:\n",
        "      print('Loop')"
      ]
    },
    {
      "cell_type": "markdown",
      "source": [
        "Exemplos da Documentação"
      ],
      "metadata": {
        "id": "tbiHZuyNz6jG"
      }
    },
    {
      "cell_type": "code",
      "source": [
        "# Exemplos da documentacao\n",
        "\n",
        "print('------------------')\n",
        "print('Documentacao:')\n",
        "print('------------------')\n",
        "print('Ex 1: ',end='')\n",
        "turing('1110010111011011101001011011101101001011110111011110100101111101110111110100110110111011010011011101110111010011011111011101111101000111011111')\n",
        "print('Ex 2: ',end='')\n",
        "turing('111001011101101110100101101110110100101111011101111010010111110111011111010011011011101101001101110111011101001101111101110111110100011101111')\n",
        "print('Ex 3: ',end='')\n",
        "turing('110010111011011101001011110110111101001101110101111011001101111010111011000111101111011101111')\n",
        "print('Ex 4: ',end='')\n",
        "turing('110010111011011101001011110101111010011011101011110110011011110101110110001111011110111')\n",
        "print()"
      ],
      "metadata": {
        "colab": {
          "base_uri": "https://localhost:8080/"
        },
        "id": "-miOytZCzWpG",
        "outputId": "2b155c0b-f735-43b5-b369-ebd7f0299067"
      },
      "execution_count": null,
      "outputs": [
        {
          "output_type": "stream",
          "name": "stdout",
          "text": [
            "------------------\n",
            "Documentacao:\n",
            "------------------\n",
            "Ex 1: Aceita\n",
            "Ex 2: Rejeita\n",
            "Ex 3: Rejeita\n",
            "Ex 4: Aceita\n",
            "\n"
          ]
        }
      ]
    },
    {
      "cell_type": "markdown",
      "source": [
        "Exemplos Próprios"
      ],
      "metadata": {
        "id": "3LNQfQDRzsZn"
      }
    },
    {
      "cell_type": "code",
      "source": [
        "# Exemplo para entrar em loop\n",
        "\n",
        "str = '111' + '00'                  # Estado final 3\n",
        "str += '10111011011101' + '00'      # 1 -> a/a D -> 2\n",
        "str += '10111101110111101' + '00'   # 1 -> b/b D -> 3\n",
        "str += '11011101011101' + '00'      # 2 -> a/a D -> 1\n",
        "str += '110111101110111101' + '000' # 2 -> b/b D -> 3\n",
        "str += '111'                        # Comeca a palavra com a\n",
        "while len(str) < 4000:              # Preenche ate entrar em loop\n",
        "  str += '0111'\n",
        "print('Ex 1: ',end='')\n",
        "turing(str)"
      ],
      "metadata": {
        "colab": {
          "base_uri": "https://localhost:8080/"
        },
        "id": "xoBcPajRzaZF",
        "outputId": "896635d8-a00c-4809-8820-c895b0ecd159"
      },
      "execution_count": null,
      "outputs": [
        {
          "output_type": "stream",
          "name": "stdout",
          "text": [
            "Ex 1: Loop\n"
          ]
        }
      ]
    },
    {
      "cell_type": "code",
      "source": [
        "# Maquina anterior sem o loop na palavra e chega no estado final\n",
        "\n",
        "str = '111' + '00'                  # Estado final 3\n",
        "str += '10111011011101' + '00'      # 1 -> a/a D -> 2\n",
        "str += '10111101110111101' + '00'   # 1 -> b/b D -> 3\n",
        "str += '11011101011101' + '00'      # 2 -> a/a D -> 1\n",
        "str += '110111101110111101' + '000' # 2 -> b/b D -> 3\n",
        "str += '111011101111'               # aab\n",
        "print('Ex 2: ',end='')\n",
        "turing(str)"
      ],
      "metadata": {
        "colab": {
          "base_uri": "https://localhost:8080/"
        },
        "id": "GHz1bFeZzaTe",
        "outputId": "7682d42d-de60-444a-96e4-8026d3743f0d"
      },
      "execution_count": null,
      "outputs": [
        {
          "output_type": "stream",
          "name": "stdout",
          "text": [
            "Ex 2: Aceita\n"
          ]
        }
      ]
    },
    {
      "cell_type": "code",
      "source": [
        "# Exemplo so' com um estado final igual ao inicial\n",
        "\n",
        "str = '1001011101011101000'  # 1 -> a/a D -> 1\n",
        "str += '111'                 # a\n",
        "print('Ex 3: ',end='')\n",
        "turing(str)"
      ],
      "metadata": {
        "colab": {
          "base_uri": "https://localhost:8080/"
        },
        "id": "9EiN2B6pzlGR",
        "outputId": "4d84e82d-dbc5-4700-8c7d-00ff45351f63"
      },
      "execution_count": null,
      "outputs": [
        {
          "output_type": "stream",
          "name": "stdout",
          "text": [
            "Ex 3: Aceita\n"
          ]
        }
      ]
    },
    {
      "cell_type": "code",
      "source": [
        "# Exemplo mais complexo\n",
        "\n",
        "str = '1111011111011111100'                         # Estados finais 4, 5 e 6\n",
        "str += '1011101101110100'                           # 1 -> a/a D -> 2\n",
        "str += '101111011111011110100'                      # 1 -> b/b D -> 5\n",
        "str += '11011101011101100'                          # 2 -> a/a E -> 1\n",
        "str += '11011110111011110100'                       # 2 -> b/b D -> 3\n",
        "str += '11011111011110111110100'                    # 2 -> c/c D -> 4\n",
        "str += '11101110111101110100'                       # 3 -> a/a D -> 4\n",
        "str += '11101111011111011110100'                    # 3 -> b/b D -> 5\n",
        "str += '1111011110111011110100'                     # 4 -> b/b D -> 3\n",
        "str += '111101111101111101111101100'                # 4 -> c/c E -> 5\n",
        "str += '111110111011111101110100'                   # 5 -> a/a D -> 6\n",
        "str += '111111011101110111011000'                   # 6 -> a/a E -> 3\n",
        "str += '1110111101110111101111011101110111'         # ababbaaa\n",
        "print('Ex 4: ',end='')\n",
        "turing(str)"
      ],
      "metadata": {
        "colab": {
          "base_uri": "https://localhost:8080/"
        },
        "id": "9UZ2AdguzlBH",
        "outputId": "307a63c9-1bea-4ada-88aa-217a197ee9d8"
      },
      "execution_count": null,
      "outputs": [
        {
          "output_type": "stream",
          "name": "stdout",
          "text": [
            "Ex 4: Aceita\n"
          ]
        }
      ]
    },
    {
      "cell_type": "code",
      "source": [
        "# Exemplo anterior com mais uma transicao para rejeitar\n",
        "\n",
        "str += '01111'\n",
        "print('Ex 5: ',end='')\n",
        "turing(str)"
      ],
      "metadata": {
        "colab": {
          "base_uri": "https://localhost:8080/"
        },
        "id": "-SGZinhLzaPp",
        "outputId": "6ae835bf-e821-4642-d384-f2a69fb9d84b"
      },
      "execution_count": null,
      "outputs": [
        {
          "output_type": "stream",
          "name": "stdout",
          "text": [
            "Ex 5: Rejeita\n"
          ]
        }
      ]
    }
  ]
}